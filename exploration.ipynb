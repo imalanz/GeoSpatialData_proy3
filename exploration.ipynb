{
 "cells": [
  {
   "cell_type": "markdown",
   "metadata": {},
   "source": [
    "# Exploration."
   ]
  },
  {
   "cell_type": "code",
   "execution_count": 172,
   "metadata": {},
   "outputs": [
    {
     "data": {
      "text/plain": [
       "<module 'data.exploration' from 'd:\\\\ironhack\\\\proyectos\\\\GeoSpatialData_proy3\\\\data\\\\exploration.py'>"
      ]
     },
     "execution_count": 172,
     "metadata": {},
     "output_type": "execute_result"
    }
   ],
   "source": [
    "from pymongo import MongoClient\n",
    "import pandas as pd\n",
    "import time\n",
    "import importlib\n",
    "import geopandas as gpd\n",
    "\n",
    "import json\n",
    "from cartoframes.viz import Map, Layer, popup_element\n",
    "\n",
    "from getpass import getpass\n",
    "import os\n",
    "import requests\n",
    "\n",
    "from dotenv import load_dotenv\n",
    "import pymongo\n",
    "import warnings\n",
    "warnings.filterwarnings(\"ignore\")\n",
    "import data.exploration as ex\n",
    "importlib.reload(ex)"
   ]
  },
  {
   "cell_type": "markdown",
   "metadata": {},
   "source": [
    "## 1. Ubication.\n",
    "### 1.1. Import from Mongo."
   ]
  },
  {
   "cell_type": "markdown",
   "metadata": {},
   "source": [
    "Todo el proceso para descargar la base de datos Empresas de Mongo."
   ]
  },
  {
   "cell_type": "code",
   "execution_count": 2,
   "metadata": {},
   "outputs": [],
   "source": [
    "client = MongoClient(\"localhost:27017\")"
   ]
  },
  {
   "cell_type": "code",
   "execution_count": 3,
   "metadata": {},
   "outputs": [
    {
     "data": {
      "text/plain": [
       "['Ironhack', 'admin', 'config', 'local']"
      ]
     },
     "execution_count": 3,
     "metadata": {},
     "output_type": "execute_result"
    }
   ],
   "source": [
    "client.list_database_names()"
   ]
  },
  {
   "cell_type": "code",
   "execution_count": 4,
   "metadata": {},
   "outputs": [],
   "source": [
    "db = client[\"Ironhack\"]"
   ]
  },
  {
   "attachments": {},
   "cell_type": "markdown",
   "metadata": {},
   "source": [
    "collection for companies Mongo."
   ]
  },
  {
   "cell_type": "code",
   "execution_count": 5,
   "metadata": {},
   "outputs": [],
   "source": [
    "c = db.get_collection(\"companies\")"
   ]
  },
  {
   "attachments": {},
   "cell_type": "markdown",
   "metadata": {},
   "source": [
    "collection for NY neighberhood."
   ]
  },
  {
   "cell_type": "code",
   "execution_count": 6,
   "metadata": {},
   "outputs": [],
   "source": [
    "nyneights = db.get_collection(\"nyneigh\")"
   ]
  },
  {
   "cell_type": "markdown",
   "metadata": {},
   "source": [
    "Explore the data base to get the information I want for the company."
   ]
  },
  {
   "cell_type": "code",
   "execution_count": 7,
   "metadata": {},
   "outputs": [],
   "source": [
    "# This was to look if the data base from Mongo was well downloaded.\n",
    "    # c.find_one()\n",
    "# This was to find with a specific condition of the ategory, and look for what i wanted to work on.\n",
    "    # list(c.find({}, {\"category_code\":1}))"
   ]
  },
  {
   "cell_type": "markdown",
   "metadata": {},
   "source": [
    "#### Will choose the music industry for my company.\n",
    "Getting the music buissnes companies and start analizing them."
   ]
  },
  {
   "cell_type": "code",
   "execution_count": 8,
   "metadata": {},
   "outputs": [],
   "source": [
    "# list of all the companies with category of music in all the world.\n",
    "    # list(c.find({\"category_code\":\"music\"}, {\"name\":1, \"_id\":0, \"category_code\":1}))"
   ]
  },
  {
   "cell_type": "markdown",
   "metadata": {},
   "source": [
    "### 1.2. Ubication COUNTRY."
   ]
  },
  {
   "cell_type": "code",
   "execution_count": 9,
   "metadata": {},
   "outputs": [],
   "source": [
    "# list of the countries with the music company industry.\n",
    "lstcountry = ex.music_countries (\"music\", 1)"
   ]
  },
  {
   "cell_type": "code",
   "execution_count": 10,
   "metadata": {},
   "outputs": [],
   "source": [
    "#countries[0]\n",
    "#countries[0][\"offices\"]\n",
    "#countries[0][\"offices\"][0][\"country_code\"]"
   ]
  },
  {
   "cell_type": "code",
   "execution_count": 11,
   "metadata": {},
   "outputs": [],
   "source": [
    "# change it to a dictionary\n",
    "country = {\"country\": lstcountry}"
   ]
  },
  {
   "cell_type": "code",
   "execution_count": 12,
   "metadata": {},
   "outputs": [],
   "source": [
    "# make it a data frame\n",
    "dfcountry = ex.make_df (country)"
   ]
  },
  {
   "cell_type": "markdown",
   "metadata": {},
   "source": [
    "We see that for much USA is the place for a music company, I wanted to see if I could go to another country that had some type of competition between the USA, but if the company wants to grow, need to be in the USA."
   ]
  },
  {
   "cell_type": "markdown",
   "metadata": {},
   "source": [
    "hacer otra columna del value count de los paises"
   ]
  },
  {
   "cell_type": "code",
   "execution_count": 13,
   "metadata": {},
   "outputs": [
    {
     "data": {
      "text/html": [
       "<div>\n",
       "<style scoped>\n",
       "    .dataframe tbody tr th:only-of-type {\n",
       "        vertical-align: middle;\n",
       "    }\n",
       "\n",
       "    .dataframe tbody tr th {\n",
       "        vertical-align: top;\n",
       "    }\n",
       "\n",
       "    .dataframe thead th {\n",
       "        text-align: right;\n",
       "    }\n",
       "</style>\n",
       "<table border=\"1\" class=\"dataframe\">\n",
       "  <thead>\n",
       "    <tr style=\"text-align: right;\">\n",
       "      <th></th>\n",
       "      <th>country</th>\n",
       "    </tr>\n",
       "  </thead>\n",
       "  <tbody>\n",
       "    <tr>\n",
       "      <th>1</th>\n",
       "      <td>USA</td>\n",
       "    </tr>\n",
       "    <tr>\n",
       "      <th>23</th>\n",
       "      <td>SWE</td>\n",
       "    </tr>\n",
       "    <tr>\n",
       "      <th>20</th>\n",
       "      <td>LUX</td>\n",
       "    </tr>\n",
       "  </tbody>\n",
       "</table>\n",
       "</div>"
      ],
      "text/plain": [
       "   country\n",
       "1      USA\n",
       "23     SWE\n",
       "20     LUX"
      ]
     },
     "execution_count": 13,
     "metadata": {},
     "output_type": "execute_result"
    }
   ],
   "source": [
    "dfcountry.sample(3)"
   ]
  },
  {
   "cell_type": "markdown",
   "metadata": {},
   "source": [
    "### 1.3. Searching for the city"
   ]
  },
  {
   "cell_type": "code",
   "execution_count": 14,
   "metadata": {},
   "outputs": [],
   "source": [
    "# Extracting from mongo list of cities chosing the category of the business."
   ]
  },
  {
   "cell_type": "code",
   "execution_count": 15,
   "metadata": {},
   "outputs": [],
   "source": [
    "lstcity = ex.music_cities (\"music\", 1)"
   ]
  },
  {
   "cell_type": "markdown",
   "metadata": {},
   "source": [
    "Merge the 2 columns of country and city and new count column"
   ]
  },
  {
   "cell_type": "code",
   "execution_count": 16,
   "metadata": {},
   "outputs": [],
   "source": [
    "location_df = ex.combine_lists (lstcity, lstcountry)"
   ]
  },
  {
   "cell_type": "code",
   "execution_count": 17,
   "metadata": {},
   "outputs": [
    {
     "data": {
      "text/html": [
       "<div>\n",
       "<style scoped>\n",
       "    .dataframe tbody tr th:only-of-type {\n",
       "        vertical-align: middle;\n",
       "    }\n",
       "\n",
       "    .dataframe tbody tr th {\n",
       "        vertical-align: top;\n",
       "    }\n",
       "\n",
       "    .dataframe thead th {\n",
       "        text-align: right;\n",
       "    }\n",
       "</style>\n",
       "<table border=\"1\" class=\"dataframe\">\n",
       "  <thead>\n",
       "    <tr style=\"text-align: right;\">\n",
       "      <th></th>\n",
       "      <th>cities</th>\n",
       "      <th>country</th>\n",
       "      <th>count</th>\n",
       "    </tr>\n",
       "  </thead>\n",
       "  <tbody>\n",
       "    <tr>\n",
       "      <th>29</th>\n",
       "      <td>Framingham</td>\n",
       "      <td>USA</td>\n",
       "      <td>1</td>\n",
       "    </tr>\n",
       "    <tr>\n",
       "      <th>13</th>\n",
       "      <td>San Francisco</td>\n",
       "      <td>USA</td>\n",
       "      <td>9</td>\n",
       "    </tr>\n",
       "    <tr>\n",
       "      <th>0</th>\n",
       "      <td>San Diego</td>\n",
       "      <td>USA</td>\n",
       "      <td>2</td>\n",
       "    </tr>\n",
       "  </tbody>\n",
       "</table>\n",
       "</div>"
      ],
      "text/plain": [
       "           cities country  count\n",
       "29     Framingham     USA      1\n",
       "13  San Francisco     USA      9\n",
       "0       San Diego     USA      2"
      ]
     },
     "execution_count": 17,
     "metadata": {},
     "output_type": "execute_result"
    }
   ],
   "source": [
    "location_df.sample(3)"
   ]
  },
  {
   "cell_type": "markdown",
   "metadata": {},
   "source": [
    "Clean the data frame, from dulicates and nulls and create a new column for counts of offices in each city."
   ]
  },
  {
   "cell_type": "code",
   "execution_count": 18,
   "metadata": {},
   "outputs": [
    {
     "data": {
      "text/html": [
       "<div>\n",
       "<style scoped>\n",
       "    .dataframe tbody tr th:only-of-type {\n",
       "        vertical-align: middle;\n",
       "    }\n",
       "\n",
       "    .dataframe tbody tr th {\n",
       "        vertical-align: top;\n",
       "    }\n",
       "\n",
       "    .dataframe thead th {\n",
       "        text-align: right;\n",
       "    }\n",
       "</style>\n",
       "<table border=\"1\" class=\"dataframe\">\n",
       "  <thead>\n",
       "    <tr style=\"text-align: right;\">\n",
       "      <th></th>\n",
       "      <th>cities</th>\n",
       "      <th>country</th>\n",
       "      <th>count</th>\n",
       "    </tr>\n",
       "  </thead>\n",
       "  <tbody>\n",
       "    <tr>\n",
       "      <th>11</th>\n",
       "      <td>Oxford</td>\n",
       "      <td>GBR</td>\n",
       "      <td>1</td>\n",
       "    </tr>\n",
       "    <tr>\n",
       "      <th>0</th>\n",
       "      <td>San Diego</td>\n",
       "      <td>USA</td>\n",
       "      <td>2</td>\n",
       "    </tr>\n",
       "    <tr>\n",
       "      <th>28</th>\n",
       "      <td>Hamburg</td>\n",
       "      <td>DEU</td>\n",
       "      <td>1</td>\n",
       "    </tr>\n",
       "  </tbody>\n",
       "</table>\n",
       "</div>"
      ],
      "text/plain": [
       "       cities country  count\n",
       "11     Oxford     GBR      1\n",
       "0   San Diego     USA      2\n",
       "28    Hamburg     DEU      1"
      ]
     },
     "execution_count": 18,
     "metadata": {},
     "output_type": "execute_result"
    }
   ],
   "source": [
    "location_clean = ex.clean_df_citycountry (location_df)\n",
    "location_clean.sample(3)"
   ]
  },
  {
   "cell_type": "markdown",
   "metadata": {},
   "source": [
    "Export the data frame of location into a CSV file."
   ]
  },
  {
   "cell_type": "code",
   "execution_count": 19,
   "metadata": {},
   "outputs": [],
   "source": [
    "ex.export_location (location_clean)"
   ]
  },
  {
   "cell_type": "markdown",
   "metadata": {},
   "source": [
    "## 2. Searching for music competition."
   ]
  },
  {
   "cell_type": "markdown",
   "metadata": {},
   "source": [
    "Filtering from mongo name, latitude and longitud. to a dictionary."
   ]
  },
  {
   "cell_type": "code",
   "execution_count": 20,
   "metadata": {},
   "outputs": [],
   "source": [
    "music_ny = ex.music_NY (\"music\", \"New York\")"
   ]
  },
  {
   "cell_type": "code",
   "execution_count": 119,
   "metadata": {},
   "outputs": [],
   "source": [
    "lat_music = ex.lat_ (music_ny)"
   ]
  },
  {
   "cell_type": "code",
   "execution_count": 120,
   "metadata": {},
   "outputs": [],
   "source": [
    "long_music = ex.long_ (music_ny)"
   ]
  },
  {
   "cell_type": "markdown",
   "metadata": {},
   "source": [
    "Create DF of latitude and longitude."
   ]
  },
  {
   "cell_type": "code",
   "execution_count": 23,
   "metadata": {},
   "outputs": [],
   "source": [
    "df_music = ex.coord_df (lat_music, long_music)"
   ]
  },
  {
   "cell_type": "code",
   "execution_count": 24,
   "metadata": {},
   "outputs": [],
   "source": [
    "musicdf = ex.musicdf_NY (\"music\", \"New York\")"
   ]
  },
  {
   "cell_type": "code",
   "execution_count": 25,
   "metadata": {},
   "outputs": [],
   "source": [
    "music_df = ex.concat_axis1 (musicdf, df_music)"
   ]
  },
  {
   "attachments": {},
   "cell_type": "markdown",
   "metadata": {},
   "source": [
    "Geo intersection."
   ]
  },
  {
   "cell_type": "code",
   "execution_count": 121,
   "metadata": {},
   "outputs": [],
   "source": [
    "musicomps_neigh = ex.dict_format_point (lat_music[:3], long_music[:3])"
   ]
  },
  {
   "cell_type": "code",
   "execution_count": 122,
   "metadata": {},
   "outputs": [],
   "source": [
    "musicomps_neigh_df = ex.make_df (musicomps_neigh)"
   ]
  },
  {
   "attachments": {},
   "cell_type": "markdown",
   "metadata": {},
   "source": [
    "Creating df with new columns, porcentage column of value of interest."
   ]
  },
  {
   "cell_type": "code",
   "execution_count": 123,
   "metadata": {},
   "outputs": [],
   "source": [
    "musicomps_count_df = ex.new_columns (musicomps_neigh_df, \"music_comp. %\", 0.5)"
   ]
  },
  {
   "cell_type": "code",
   "execution_count": 26,
   "metadata": {},
   "outputs": [],
   "source": [
    "ex.export_NY_music (music_df)"
   ]
  },
  {
   "cell_type": "markdown",
   "metadata": {},
   "source": [
    "## 3. Startup environment."
   ]
  },
  {
   "cell_type": "markdown",
   "metadata": {},
   "source": [
    "Filter information."
   ]
  },
  {
   "cell_type": "code",
   "execution_count": 27,
   "metadata": {},
   "outputs": [],
   "source": [
    "startups = ex.startups_cooord (\"New York\", 1000000)"
   ]
  },
  {
   "cell_type": "code",
   "execution_count": 28,
   "metadata": {},
   "outputs": [],
   "source": [
    "startups_lat = ex.lat_ (startups)"
   ]
  },
  {
   "cell_type": "code",
   "execution_count": 29,
   "metadata": {},
   "outputs": [],
   "source": [
    "startups_long = ex.long_ (startups)"
   ]
  },
  {
   "cell_type": "markdown",
   "metadata": {},
   "source": [
    "Filter again the startups but without the latitud and logitude and turn it into a data frame.\n"
   ]
  },
  {
   "cell_type": "code",
   "execution_count": 30,
   "metadata": {},
   "outputs": [
    {
     "data": {
      "text/html": [
       "<div>\n",
       "<style scoped>\n",
       "    .dataframe tbody tr th:only-of-type {\n",
       "        vertical-align: middle;\n",
       "    }\n",
       "\n",
       "    .dataframe tbody tr th {\n",
       "        vertical-align: top;\n",
       "    }\n",
       "\n",
       "    .dataframe thead th {\n",
       "        text-align: right;\n",
       "    }\n",
       "</style>\n",
       "<table border=\"1\" class=\"dataframe\">\n",
       "  <thead>\n",
       "    <tr style=\"text-align: right;\">\n",
       "      <th></th>\n",
       "      <th>name</th>\n",
       "      <th>category_code</th>\n",
       "      <th>acquisitions</th>\n",
       "    </tr>\n",
       "  </thead>\n",
       "  <tbody>\n",
       "    <tr>\n",
       "      <th>31</th>\n",
       "      <td>Pfizer</td>\n",
       "      <td>biotech</td>\n",
       "      <td>[{'price_amount': 195000000}, {'price_amount':...</td>\n",
       "    </tr>\n",
       "    <tr>\n",
       "      <th>37</th>\n",
       "      <td>Dice Holdings</td>\n",
       "      <td>web</td>\n",
       "      <td>[{'price_amount': 4800000}, {'price_amount': 9...</td>\n",
       "    </tr>\n",
       "    <tr>\n",
       "      <th>20</th>\n",
       "      <td>LivePerson</td>\n",
       "      <td>software</td>\n",
       "      <td>[{'price_amount': None}, {'price_amount': 3000...</td>\n",
       "    </tr>\n",
       "  </tbody>\n",
       "</table>\n",
       "</div>"
      ],
      "text/plain": [
       "             name category_code  \\\n",
       "31         Pfizer       biotech   \n",
       "37  Dice Holdings           web   \n",
       "20     LivePerson      software   \n",
       "\n",
       "                                         acquisitions  \n",
       "31  [{'price_amount': 195000000}, {'price_amount':...  \n",
       "37  [{'price_amount': 4800000}, {'price_amount': 9...  \n",
       "20  [{'price_amount': None}, {'price_amount': 3000...  "
      ]
     },
     "execution_count": 30,
     "metadata": {},
     "output_type": "execute_result"
    }
   ],
   "source": [
    "start_names = ex.startups_name (\"New York\", 1000000)\n",
    "start_names.sample(3)"
   ]
  },
  {
   "cell_type": "markdown",
   "metadata": {},
   "source": [
    "Make a dictionary with all values to create a data base."
   ]
  },
  {
   "cell_type": "code",
   "execution_count": 31,
   "metadata": {},
   "outputs": [],
   "source": [
    "#     ex.price_amount (city, amount)"
   ]
  },
  {
   "cell_type": "code",
   "execution_count": 32,
   "metadata": {},
   "outputs": [],
   "source": [
    "df = ex.coord_df (startups_lat, startups_long)"
   ]
  },
  {
   "cell_type": "code",
   "execution_count": 33,
   "metadata": {},
   "outputs": [
    {
     "data": {
      "text/html": [
       "<div>\n",
       "<style scoped>\n",
       "    .dataframe tbody tr th:only-of-type {\n",
       "        vertical-align: middle;\n",
       "    }\n",
       "\n",
       "    .dataframe tbody tr th {\n",
       "        vertical-align: top;\n",
       "    }\n",
       "\n",
       "    .dataframe thead th {\n",
       "        text-align: right;\n",
       "    }\n",
       "</style>\n",
       "<table border=\"1\" class=\"dataframe\">\n",
       "  <thead>\n",
       "    <tr style=\"text-align: right;\">\n",
       "      <th></th>\n",
       "      <th>latitud</th>\n",
       "      <th>longitude</th>\n",
       "    </tr>\n",
       "  </thead>\n",
       "  <tbody>\n",
       "    <tr>\n",
       "      <th>7</th>\n",
       "      <td>40.731118</td>\n",
       "      <td>-73.991933</td>\n",
       "    </tr>\n",
       "    <tr>\n",
       "      <th>38</th>\n",
       "      <td>NaN</td>\n",
       "      <td>NaN</td>\n",
       "    </tr>\n",
       "    <tr>\n",
       "      <th>33</th>\n",
       "      <td>NaN</td>\n",
       "      <td>NaN</td>\n",
       "    </tr>\n",
       "  </tbody>\n",
       "</table>\n",
       "</div>"
      ],
      "text/plain": [
       "      latitud  longitude\n",
       "7   40.731118 -73.991933\n",
       "38        NaN        NaN\n",
       "33        NaN        NaN"
      ]
     },
     "execution_count": 33,
     "metadata": {},
     "output_type": "execute_result"
    }
   ],
   "source": [
    "df.sample(3)"
   ]
  },
  {
   "cell_type": "markdown",
   "metadata": {},
   "source": [
    "Concat 2 data frames."
   ]
  },
  {
   "cell_type": "code",
   "execution_count": 34,
   "metadata": {},
   "outputs": [],
   "source": [
    "startups = ex.concat_axis1 (start_names, df)"
   ]
  },
  {
   "cell_type": "code",
   "execution_count": 35,
   "metadata": {},
   "outputs": [
    {
     "data": {
      "text/html": [
       "<div>\n",
       "<style scoped>\n",
       "    .dataframe tbody tr th:only-of-type {\n",
       "        vertical-align: middle;\n",
       "    }\n",
       "\n",
       "    .dataframe tbody tr th {\n",
       "        vertical-align: top;\n",
       "    }\n",
       "\n",
       "    .dataframe thead th {\n",
       "        text-align: right;\n",
       "    }\n",
       "</style>\n",
       "<table border=\"1\" class=\"dataframe\">\n",
       "  <thead>\n",
       "    <tr style=\"text-align: right;\">\n",
       "      <th></th>\n",
       "      <th>name</th>\n",
       "      <th>category_code</th>\n",
       "      <th>acquisitions</th>\n",
       "      <th>latitud</th>\n",
       "      <th>longitude</th>\n",
       "    </tr>\n",
       "  </thead>\n",
       "  <tbody>\n",
       "    <tr>\n",
       "      <th>38</th>\n",
       "      <td>Backstage</td>\n",
       "      <td>web</td>\n",
       "      <td>[{'price_amount': 15000000}]</td>\n",
       "      <td>NaN</td>\n",
       "      <td>NaN</td>\n",
       "    </tr>\n",
       "  </tbody>\n",
       "</table>\n",
       "</div>"
      ],
      "text/plain": [
       "         name category_code                  acquisitions  latitud  longitude\n",
       "38  Backstage           web  [{'price_amount': 15000000}]      NaN        NaN"
      ]
     },
     "execution_count": 35,
     "metadata": {},
     "output_type": "execute_result"
    }
   ],
   "source": [
    "startups.sample()"
   ]
  },
  {
   "attachments": {},
   "cell_type": "markdown",
   "metadata": {},
   "source": [
    "Geo intersection."
   ]
  },
  {
   "attachments": {},
   "cell_type": "markdown",
   "metadata": {},
   "source": [
    "had to create a function to clean null values."
   ]
  },
  {
   "cell_type": "code",
   "execution_count": 174,
   "metadata": {},
   "outputs": [],
   "source": [
    "lat_lst = ex.delete_null (startups_lat)"
   ]
  },
  {
   "cell_type": "code",
   "execution_count": 175,
   "metadata": {},
   "outputs": [],
   "source": [
    "lon_lst = ex.delete_null (startups_long)"
   ]
  },
  {
   "cell_type": "markdown",
   "metadata": {},
   "source": []
  },
  {
   "cell_type": "code",
   "execution_count": null,
   "metadata": {},
   "outputs": [],
   "source": []
  },
  {
   "cell_type": "code",
   "execution_count": 176,
   "metadata": {},
   "outputs": [],
   "source": [
    "startups_neigh = ex.dict_format_point (lat_lst, lon_lst)"
   ]
  },
  {
   "cell_type": "code",
   "execution_count": 177,
   "metadata": {},
   "outputs": [],
   "source": [
    "startups_neigh_df = ex.make_df (startups_neigh)"
   ]
  },
  {
   "attachments": {},
   "cell_type": "markdown",
   "metadata": {},
   "source": [
    "creating data frame with new columns."
   ]
  },
  {
   "cell_type": "code",
   "execution_count": 178,
   "metadata": {},
   "outputs": [],
   "source": [
    "startups_count_df = ex.new_columns (startups_neigh_df, \"startups. %\", 0.7)"
   ]
  },
  {
   "cell_type": "code",
   "execution_count": 37,
   "metadata": {},
   "outputs": [],
   "source": [
    "ex.export_NY_startups (startups)"
   ]
  },
  {
   "cell_type": "markdown",
   "metadata": {},
   "source": [
    "## 4. Foursquare."
   ]
  },
  {
   "cell_type": "code",
   "execution_count": 38,
   "metadata": {},
   "outputs": [],
   "source": [
    "token = getpass()"
   ]
  },
  {
   "cell_type": "markdown",
   "metadata": {},
   "source": [
    "### 4.1. Starbucks."
   ]
  },
  {
   "cell_type": "code",
   "execution_count": 39,
   "metadata": {},
   "outputs": [],
   "source": [
    "square_starbucks = ex.foursquare (\"starbucks\", 13032)"
   ]
  },
  {
   "cell_type": "code",
   "execution_count": 40,
   "metadata": {},
   "outputs": [],
   "source": [
    "single = ex.single_coord_name (square_starbucks[0])"
   ]
  },
  {
   "cell_type": "code",
   "execution_count": 41,
   "metadata": {},
   "outputs": [],
   "source": [
    "dict_startbucks = ex.iterate_all (square_starbucks)"
   ]
  },
  {
   "cell_type": "code",
   "execution_count": 42,
   "metadata": {},
   "outputs": [],
   "source": [
    "starbucks_df = ex.make_df (dict_startbucks)\n"
   ]
  },
  {
   "attachments": {},
   "cell_type": "markdown",
   "metadata": {},
   "source": [
    "Mongo. Create a new collection and add/ insert all the rows in the data frame."
   ]
  },
  {
   "cell_type": "code",
   "execution_count": 43,
   "metadata": {},
   "outputs": [],
   "source": [
    "for index, row in starbucks_df.iterrows():\n",
    "    db[\"ny_starbucks\"].insert_one(dict(row))"
   ]
  },
  {
   "cell_type": "code",
   "execution_count": 44,
   "metadata": {},
   "outputs": [
    {
     "data": {
      "text/plain": [
       "Collection(Database(MongoClient(host=['localhost:27017'], document_class=dict, tz_aware=False, connect=True), 'Ironhack'), 'ny_starbucks')"
      ]
     },
     "execution_count": 44,
     "metadata": {},
     "output_type": "execute_result"
    }
   ],
   "source": [
    "mongo_starbucks = db.get_collection(\"ny_starbucks\")\n",
    "mongo_starbucks"
   ]
  },
  {
   "attachments": {},
   "cell_type": "markdown",
   "metadata": {},
   "source": [
    "Geo intersection."
   ]
  },
  {
   "cell_type": "code",
   "execution_count": 114,
   "metadata": {},
   "outputs": [
    {
     "data": {
      "text/plain": [
       "[{'name': 'West Village'},\n",
       " {'name': 'West Village'},\n",
       " {'name': 'Hudson Yards-Chelsea-Flatiron-Union Square'},\n",
       " {'name': 'Hudson Yards-Chelsea-Flatiron-Union Square'},\n",
       " {'name': 'West Village'},\n",
       " {'name': 'West Village'},\n",
       " {'name': 'Hudson Yards-Chelsea-Flatiron-Union Square'},\n",
       " {'name': 'West Village'},\n",
       " {'name': 'Hudson Yards-Chelsea-Flatiron-Union Square'},\n",
       " {'name': 'Hudson Yards-Chelsea-Flatiron-Union Square'},\n",
       " {'name': 'West Village'},\n",
       " {'name': 'West Village'},\n",
       " {'name': 'Hudson Yards-Chelsea-Flatiron-Union Square'},\n",
       " {'name': 'Hudson Yards-Chelsea-Flatiron-Union Square'},\n",
       " {'name': 'Gramercy'},\n",
       " {'name': 'Midtown-Midtown South'},\n",
       " {'name': 'Hudson Yards-Chelsea-Flatiron-Union Square'},\n",
       " {'name': 'SoHo-TriBeCa-Civic Center-Little Italy'},\n",
       " {'name': 'Midtown-Midtown South'},\n",
       " {'name': 'Hudson Yards-Chelsea-Flatiron-Union Square'},\n",
       " {'name': 'West Village'},\n",
       " {'name': 'West Village'},\n",
       " {'name': 'Hudson Yards-Chelsea-Flatiron-Union Square'},\n",
       " {'name': 'SoHo-TriBeCa-Civic Center-Little Italy'},\n",
       " {'name': 'Hudson Yards-Chelsea-Flatiron-Union Square'},\n",
       " {'name': 'Gramercy'},\n",
       " {'name': 'Midtown-Midtown South'},\n",
       " {'name': 'Midtown-Midtown South'},\n",
       " {'name': 'Gramercy'},\n",
       " {'name': 'Midtown-Midtown South'},\n",
       " {'name': 'Midtown-Midtown South'},\n",
       " {'name': 'SoHo-TriBeCa-Civic Center-Little Italy'},\n",
       " {'name': 'Midtown-Midtown South'},\n",
       " {'name': 'Hudson Yards-Chelsea-Flatiron-Union Square'},\n",
       " {'name': 'Hudson Yards-Chelsea-Flatiron-Union Square'},\n",
       " {'name': 'Midtown-Midtown South'},\n",
       " {'name': 'Midtown-Midtown South'},\n",
       " {'name': 'East Village'},\n",
       " {'name': 'Midtown-Midtown South'},\n",
       " {'name': 'Midtown-Midtown South'},\n",
       " {'name': 'Murray Hill-Kips Bay'},\n",
       " {'name': 'Murray Hill-Kips Bay'},\n",
       " {'name': 'Stuyvesant Town-Cooper Village'},\n",
       " {'name': 'Midtown-Midtown South'},\n",
       " {'name': 'East Village'},\n",
       " {'name': 'Midtown-Midtown South'},\n",
       " {'name': 'SoHo-TriBeCa-Civic Center-Little Italy'},\n",
       " {'name': 'Murray Hill-Kips Bay'},\n",
       " {'name': 'SoHo-TriBeCa-Civic Center-Little Italy'},\n",
       " {'name': 'Hudson Yards-Chelsea-Flatiron-Union Square'},\n",
       " {'name': 'West Village'},\n",
       " {'name': 'West Village'},\n",
       " {'name': 'Hudson Yards-Chelsea-Flatiron-Union Square'},\n",
       " {'name': 'Hudson Yards-Chelsea-Flatiron-Union Square'},\n",
       " {'name': 'West Village'},\n",
       " {'name': 'West Village'},\n",
       " {'name': 'Hudson Yards-Chelsea-Flatiron-Union Square'},\n",
       " {'name': 'West Village'},\n",
       " {'name': 'Hudson Yards-Chelsea-Flatiron-Union Square'},\n",
       " {'name': 'Hudson Yards-Chelsea-Flatiron-Union Square'},\n",
       " {'name': 'West Village'},\n",
       " {'name': 'West Village'},\n",
       " {'name': 'Hudson Yards-Chelsea-Flatiron-Union Square'},\n",
       " {'name': 'Hudson Yards-Chelsea-Flatiron-Union Square'},\n",
       " {'name': 'Gramercy'},\n",
       " {'name': 'Midtown-Midtown South'},\n",
       " {'name': 'Hudson Yards-Chelsea-Flatiron-Union Square'},\n",
       " {'name': 'SoHo-TriBeCa-Civic Center-Little Italy'},\n",
       " {'name': 'Midtown-Midtown South'},\n",
       " {'name': 'Hudson Yards-Chelsea-Flatiron-Union Square'},\n",
       " {'name': 'West Village'},\n",
       " {'name': 'West Village'},\n",
       " {'name': 'Hudson Yards-Chelsea-Flatiron-Union Square'},\n",
       " {'name': 'SoHo-TriBeCa-Civic Center-Little Italy'},\n",
       " {'name': 'Hudson Yards-Chelsea-Flatiron-Union Square'},\n",
       " {'name': 'Gramercy'},\n",
       " {'name': 'Midtown-Midtown South'},\n",
       " {'name': 'Midtown-Midtown South'},\n",
       " {'name': 'Gramercy'},\n",
       " {'name': 'Midtown-Midtown South'},\n",
       " {'name': 'Midtown-Midtown South'},\n",
       " {'name': 'SoHo-TriBeCa-Civic Center-Little Italy'},\n",
       " {'name': 'Midtown-Midtown South'},\n",
       " {'name': 'Hudson Yards-Chelsea-Flatiron-Union Square'},\n",
       " {'name': 'Hudson Yards-Chelsea-Flatiron-Union Square'},\n",
       " {'name': 'Midtown-Midtown South'},\n",
       " {'name': 'Midtown-Midtown South'},\n",
       " {'name': 'East Village'},\n",
       " {'name': 'Midtown-Midtown South'},\n",
       " {'name': 'Midtown-Midtown South'},\n",
       " {'name': 'Murray Hill-Kips Bay'},\n",
       " {'name': 'Murray Hill-Kips Bay'},\n",
       " {'name': 'Stuyvesant Town-Cooper Village'},\n",
       " {'name': 'Midtown-Midtown South'},\n",
       " {'name': 'East Village'},\n",
       " {'name': 'Midtown-Midtown South'},\n",
       " {'name': 'SoHo-TriBeCa-Civic Center-Little Italy'},\n",
       " {'name': 'Murray Hill-Kips Bay'},\n",
       " {'name': 'SoHo-TriBeCa-Civic Center-Little Italy'},\n",
       " {'name': 'Hudson Yards-Chelsea-Flatiron-Union Square'}]"
      ]
     },
     "execution_count": 114,
     "metadata": {},
     "output_type": "execute_result"
    }
   ],
   "source": [
    "starbucks_neigh = ex.geointersection_dict (mongo_starbucks)"
   ]
  },
  {
   "cell_type": "code",
   "execution_count": 46,
   "metadata": {},
   "outputs": [],
   "source": [
    "starbucks_neigh_df = ex.make_df (starbucks_neigh)"
   ]
  },
  {
   "attachments": {},
   "cell_type": "markdown",
   "metadata": {},
   "source": [
    "crear nueva columna con value counts de la cantidad de starbucks en cada neightberhood.\n",
    "The value .3 is the 30% that I give the importance of the starbucks for the company"
   ]
  },
  {
   "cell_type": "code",
   "execution_count": 66,
   "metadata": {},
   "outputs": [
    {
     "data": {
      "text/html": [
       "<div>\n",
       "<style scoped>\n",
       "    .dataframe tbody tr th:only-of-type {\n",
       "        vertical-align: middle;\n",
       "    }\n",
       "\n",
       "    .dataframe tbody tr th {\n",
       "        vertical-align: top;\n",
       "    }\n",
       "\n",
       "    .dataframe thead th {\n",
       "        text-align: right;\n",
       "    }\n",
       "</style>\n",
       "<table border=\"1\" class=\"dataframe\">\n",
       "  <thead>\n",
       "    <tr style=\"text-align: right;\">\n",
       "      <th></th>\n",
       "      <th>name</th>\n",
       "      <th>count</th>\n",
       "      <th>starbucks %</th>\n",
       "    </tr>\n",
       "  </thead>\n",
       "  <tbody>\n",
       "    <tr>\n",
       "      <th>71</th>\n",
       "      <td>West Village</td>\n",
       "      <td>18</td>\n",
       "      <td>5.4</td>\n",
       "    </tr>\n",
       "    <tr>\n",
       "      <th>78</th>\n",
       "      <td>Gramercy</td>\n",
       "      <td>6</td>\n",
       "      <td>1.8</td>\n",
       "    </tr>\n",
       "    <tr>\n",
       "      <th>92</th>\n",
       "      <td>Stuyvesant Town-Cooper Village</td>\n",
       "      <td>2</td>\n",
       "      <td>0.6</td>\n",
       "    </tr>\n",
       "    <tr>\n",
       "      <th>94</th>\n",
       "      <td>East Village</td>\n",
       "      <td>4</td>\n",
       "      <td>1.2</td>\n",
       "    </tr>\n",
       "    <tr>\n",
       "      <th>95</th>\n",
       "      <td>Midtown-Midtown South</td>\n",
       "      <td>26</td>\n",
       "      <td>7.8</td>\n",
       "    </tr>\n",
       "    <tr>\n",
       "      <th>97</th>\n",
       "      <td>Murray Hill-Kips Bay</td>\n",
       "      <td>6</td>\n",
       "      <td>1.8</td>\n",
       "    </tr>\n",
       "    <tr>\n",
       "      <th>98</th>\n",
       "      <td>SoHo-TriBeCa-Civic Center-Little Italy</td>\n",
       "      <td>10</td>\n",
       "      <td>3.0</td>\n",
       "    </tr>\n",
       "    <tr>\n",
       "      <th>99</th>\n",
       "      <td>Hudson Yards-Chelsea-Flatiron-Union Square</td>\n",
       "      <td>28</td>\n",
       "      <td>8.4</td>\n",
       "    </tr>\n",
       "  </tbody>\n",
       "</table>\n",
       "</div>"
      ],
      "text/plain": [
       "                                          name  count  starbucks %\n",
       "71                                West Village     18          5.4\n",
       "78                                    Gramercy      6          1.8\n",
       "92              Stuyvesant Town-Cooper Village      2          0.6\n",
       "94                                East Village      4          1.2\n",
       "95                       Midtown-Midtown South     26          7.8\n",
       "97                        Murray Hill-Kips Bay      6          1.8\n",
       "98      SoHo-TriBeCa-Civic Center-Little Italy     10          3.0\n",
       "99  Hudson Yards-Chelsea-Flatiron-Union Square     28          8.4"
      ]
     },
     "execution_count": 66,
     "metadata": {},
     "output_type": "execute_result"
    }
   ],
   "source": [
    "starbuks_count_df = ex.new_columns (starbucks_neigh_df, \"starbucks %\", 0.3)"
   ]
  },
  {
   "attachments": {},
   "cell_type": "markdown",
   "metadata": {},
   "source": [
    "Export data frame to csv file."
   ]
  },
  {
   "cell_type": "code",
   "execution_count": 52,
   "metadata": {},
   "outputs": [],
   "source": [
    "ex.export_NY_starbucks (starbucks_df)"
   ]
  },
  {
   "cell_type": "markdown",
   "metadata": {},
   "source": [
    "### 4.2. Schools."
   ]
  },
  {
   "cell_type": "code",
   "execution_count": 54,
   "metadata": {},
   "outputs": [],
   "source": [
    "square_schools = ex.foursquare (\"schools\", 12009)"
   ]
  },
  {
   "cell_type": "code",
   "execution_count": 55,
   "metadata": {},
   "outputs": [],
   "source": [
    "single_schools = ex.single_coord_name (square_schools[0])"
   ]
  },
  {
   "cell_type": "code",
   "execution_count": 56,
   "metadata": {},
   "outputs": [],
   "source": [
    "dict_schools = ex.iterate_all (square_schools)"
   ]
  },
  {
   "cell_type": "code",
   "execution_count": 82,
   "metadata": {},
   "outputs": [],
   "source": [
    "school_df = ex.make_df (dict_schools)"
   ]
  },
  {
   "attachments": {},
   "cell_type": "markdown",
   "metadata": {},
   "source": [
    "Mongo collection."
   ]
  },
  {
   "cell_type": "code",
   "execution_count": 58,
   "metadata": {},
   "outputs": [],
   "source": [
    "for index, row in school_df.iterrows():\n",
    "    db[\"ny_schools\"].insert_one(dict(row))"
   ]
  },
  {
   "cell_type": "code",
   "execution_count": 60,
   "metadata": {},
   "outputs": [
    {
     "data": {
      "text/plain": [
       "Collection(Database(MongoClient(host=['localhost:27017'], document_class=dict, tz_aware=False, connect=True), 'Ironhack'), 'ny_schools')"
      ]
     },
     "execution_count": 60,
     "metadata": {},
     "output_type": "execute_result"
    }
   ],
   "source": [
    "mongo_schools = db.get_collection(\"ny_schools\")\n",
    "mongo_schools"
   ]
  },
  {
   "attachments": {},
   "cell_type": "markdown",
   "metadata": {},
   "source": [
    "Create Geo intersection."
   ]
  },
  {
   "cell_type": "code",
   "execution_count": 68,
   "metadata": {},
   "outputs": [],
   "source": [
    "schools_neigh = ex.geointersection_dict (mongo_schools)"
   ]
  },
  {
   "cell_type": "code",
   "execution_count": 83,
   "metadata": {},
   "outputs": [],
   "source": [
    "schools_neigh_df = ex.make_df (schools_neigh)"
   ]
  },
  {
   "attachments": {},
   "cell_type": "markdown",
   "metadata": {},
   "source": [
    "Create new column with value counts and porcentage given for schools."
   ]
  },
  {
   "cell_type": "code",
   "execution_count": 84,
   "metadata": {},
   "outputs": [],
   "source": [
    "schools_count = ex.new_columns (schools_neigh_df, \"schools %\", 0.4)"
   ]
  },
  {
   "attachments": {},
   "cell_type": "markdown",
   "metadata": {},
   "source": [
    "Export data frame to csv file."
   ]
  },
  {
   "cell_type": "code",
   "execution_count": null,
   "metadata": {},
   "outputs": [],
   "source": [
    "ex.export_NY_schools (school_df)"
   ]
  },
  {
   "cell_type": "markdown",
   "metadata": {},
   "source": [
    "### 4.3. Music scenario."
   ]
  },
  {
   "cell_type": "markdown",
   "metadata": {},
   "source": [
    "### 4.3.1. Bars."
   ]
  },
  {
   "cell_type": "code",
   "execution_count": 72,
   "metadata": {},
   "outputs": [],
   "source": [
    "square_bars = ex.foursquare (\"bars\", 13003)"
   ]
  },
  {
   "cell_type": "code",
   "execution_count": 73,
   "metadata": {},
   "outputs": [],
   "source": [
    "single_bars = ex.single_coord_name (square_bars[0])"
   ]
  },
  {
   "cell_type": "code",
   "execution_count": 74,
   "metadata": {},
   "outputs": [],
   "source": [
    "dict_bars = ex.iterate_all (square_bars)"
   ]
  },
  {
   "cell_type": "code",
   "execution_count": 80,
   "metadata": {},
   "outputs": [],
   "source": [
    "bars_df = ex.make_df (dict_bars)"
   ]
  },
  {
   "attachments": {},
   "cell_type": "markdown",
   "metadata": {},
   "source": [
    "Mongo collection. create a new collection and add/ insert all the rows in the data frame."
   ]
  },
  {
   "cell_type": "code",
   "execution_count": 76,
   "metadata": {},
   "outputs": [],
   "source": [
    "for index, row in bars_df.iterrows():\n",
    "    db[\"ny_bars\"].insert_one(dict(row))"
   ]
  },
  {
   "cell_type": "code",
   "execution_count": 77,
   "metadata": {},
   "outputs": [
    {
     "data": {
      "text/plain": [
       "Collection(Database(MongoClient(host=['localhost:27017'], document_class=dict, tz_aware=False, connect=True), 'Ironhack'), 'ny_bars')"
      ]
     },
     "execution_count": 77,
     "metadata": {},
     "output_type": "execute_result"
    }
   ],
   "source": [
    "mongo_bars = db.get_collection(\"ny_bars\")\n",
    "mongo_bars"
   ]
  },
  {
   "attachments": {},
   "cell_type": "markdown",
   "metadata": {},
   "source": [
    "Create Geo Intersection."
   ]
  },
  {
   "cell_type": "code",
   "execution_count": 78,
   "metadata": {},
   "outputs": [],
   "source": [
    "bars_neigh = ex.geointersection_dict (mongo_bars)"
   ]
  },
  {
   "cell_type": "code",
   "execution_count": 85,
   "metadata": {},
   "outputs": [],
   "source": [
    "bars_neigh_df = ex.make_df (bars_neigh)"
   ]
  },
  {
   "cell_type": "code",
   "execution_count": 88,
   "metadata": {},
   "outputs": [],
   "source": [
    "bars_count = ex.new_columns (bars_neigh_df, \"bars %\", 0.2)"
   ]
  },
  {
   "attachments": {},
   "cell_type": "markdown",
   "metadata": {},
   "source": [
    "Export data frame to csv file."
   ]
  },
  {
   "cell_type": "code",
   "execution_count": null,
   "metadata": {},
   "outputs": [],
   "source": [
    "ex.export_NY_bars (school_df)"
   ]
  },
  {
   "cell_type": "markdown",
   "metadata": {},
   "source": [
    "### 4.3.2. Street concerts."
   ]
  },
  {
   "cell_type": "code",
   "execution_count": 89,
   "metadata": {},
   "outputs": [],
   "source": [
    "square_concerts = ex.foursquare (\"concerts\", 10000)"
   ]
  },
  {
   "cell_type": "code",
   "execution_count": 90,
   "metadata": {},
   "outputs": [],
   "source": [
    "single_concerts = ex.single_coord_name (square_concerts[0])"
   ]
  },
  {
   "cell_type": "code",
   "execution_count": 91,
   "metadata": {},
   "outputs": [],
   "source": [
    "dict_concerts = ex.iterate_all (square_concerts)"
   ]
  },
  {
   "cell_type": "code",
   "execution_count": 99,
   "metadata": {},
   "outputs": [],
   "source": [
    "concerts_df = ex.make_df (dict_concerts)"
   ]
  },
  {
   "attachments": {},
   "cell_type": "markdown",
   "metadata": {},
   "source": [
    "Mongo collection. Create a new collection and add/ insert all the rows in the data frame."
   ]
  },
  {
   "cell_type": "code",
   "execution_count": 93,
   "metadata": {},
   "outputs": [],
   "source": [
    "for index, row in concerts_df.iterrows():\n",
    "    db[\"ny_concerts\"].insert_one(dict(row))"
   ]
  },
  {
   "cell_type": "code",
   "execution_count": 94,
   "metadata": {},
   "outputs": [
    {
     "data": {
      "text/plain": [
       "Collection(Database(MongoClient(host=['localhost:27017'], document_class=dict, tz_aware=False, connect=True), 'Ironhack'), 'ny_concerts')"
      ]
     },
     "execution_count": 94,
     "metadata": {},
     "output_type": "execute_result"
    }
   ],
   "source": [
    "mongo_concerts = db.get_collection(\"ny_concerts\")\n",
    "mongo_concerts"
   ]
  },
  {
   "attachments": {},
   "cell_type": "markdown",
   "metadata": {},
   "source": [
    "Geo intersection."
   ]
  },
  {
   "cell_type": "code",
   "execution_count": 95,
   "metadata": {},
   "outputs": [],
   "source": [
    "concerts_neigh = ex.geointersection_dict (mongo_concerts)"
   ]
  },
  {
   "cell_type": "code",
   "execution_count": 96,
   "metadata": {},
   "outputs": [],
   "source": [
    "concerts_neigh_df = ex.make_df (concerts_neigh)"
   ]
  },
  {
   "cell_type": "code",
   "execution_count": 97,
   "metadata": {},
   "outputs": [],
   "source": [
    "concerts_count = ex.new_columns (concerts_neigh_df, \"concerts %\", 0.3)"
   ]
  },
  {
   "attachments": {},
   "cell_type": "markdown",
   "metadata": {},
   "source": [
    "Export Data frame as csv file."
   ]
  },
  {
   "cell_type": "code",
   "execution_count": null,
   "metadata": {},
   "outputs": [],
   "source": [
    "ex.export_NY_concerts (school_df)"
   ]
  },
  {
   "cell_type": "code",
   "execution_count": null,
   "metadata": {},
   "outputs": [],
   "source": [
    "# to create a new collection in mongo.\n",
    "# db[\"ny_schools\"].insert_one({\"algo\":355})"
   ]
  }
 ],
 "metadata": {
  "kernelspec": {
   "display_name": "Python 3 (ipykernel)",
   "language": "python",
   "name": "python3"
  },
  "language_info": {
   "codemirror_mode": {
    "name": "ipython",
    "version": 3
   },
   "file_extension": ".py",
   "mimetype": "text/x-python",
   "name": "python",
   "nbconvert_exporter": "python",
   "pygments_lexer": "ipython3",
   "version": "3.10.4"
  },
  "vscode": {
   "interpreter": {
    "hash": "91a84e6b8351ad3ec71ce9fb2308d8cc98e807eebbcac368689e5c7e13990fb4"
   }
  }
 },
 "nbformat": 4,
 "nbformat_minor": 2
}

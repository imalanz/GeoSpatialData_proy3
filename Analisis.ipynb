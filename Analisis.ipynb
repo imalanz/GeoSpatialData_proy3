{
 "cells": [
  {
   "cell_type": "markdown",
   "metadata": {},
   "source": [
    "# Analyzing."
   ]
  },
  {
   "cell_type": "markdown",
   "metadata": {},
   "source": [
    "## 1. Location."
   ]
  },
  {
   "cell_type": "code",
   "execution_count": 1,
   "metadata": {},
   "outputs": [],
   "source": [
    "from pymongo import MongoClient\n",
    "import pandas as pd\n",
    "import time\n",
    "import importlib\n",
    "import geopandas as gpd\n",
    "import data.cleaning as clean\n",
    "importlib.reload(clean)\n",
    "import json\n",
    "from cartoframes.viz import Map, Layer, popup_element\n",
    "\n",
    "from getpass import getpass\n",
    "import os\n",
    "import requests\n",
    "\n",
    "from dotenv import load_dotenv\n",
    "import pymongo\n",
    "\n"
   ]
  },
  {
   "cell_type": "markdown",
   "metadata": {},
   "source": [
    "Todo el proceso para descargar la base de datos Empresas de Mongo."
   ]
  },
  {
   "cell_type": "code",
   "execution_count": 2,
   "metadata": {},
   "outputs": [],
   "source": [
    "client = MongoClient(\"localhost:27017\")"
   ]
  },
  {
   "cell_type": "code",
   "execution_count": 3,
   "metadata": {},
   "outputs": [
    {
     "data": {
      "text/plain": [
       "MongoClient(host=['localhost:27017'], document_class=dict, tz_aware=False, connect=True)"
      ]
     },
     "execution_count": 3,
     "metadata": {},
     "output_type": "execute_result"
    }
   ],
   "source": [
    "client"
   ]
  },
  {
   "cell_type": "code",
   "execution_count": 4,
   "metadata": {},
   "outputs": [
    {
     "data": {
      "text/plain": [
       "['Ironhack', 'admin', 'config', 'local']"
      ]
     },
     "execution_count": 4,
     "metadata": {},
     "output_type": "execute_result"
    }
   ],
   "source": [
    "client.list_database_names()"
   ]
  },
  {
   "cell_type": "code",
   "execution_count": 5,
   "metadata": {},
   "outputs": [],
   "source": [
    "db = client[\"Ironhack\"]"
   ]
  },
  {
   "cell_type": "code",
   "execution_count": 6,
   "metadata": {},
   "outputs": [
    {
     "data": {
      "text/plain": [
       "Database(MongoClient(host=['localhost:27017'], document_class=dict, tz_aware=False, connect=True), 'Ironhack')"
      ]
     },
     "execution_count": 6,
     "metadata": {},
     "output_type": "execute_result"
    }
   ],
   "source": [
    "db"
   ]
  },
  {
   "cell_type": "code",
   "execution_count": 7,
   "metadata": {},
   "outputs": [],
   "source": [
    "c = db.get_collection(\"companies\")"
   ]
  },
  {
   "cell_type": "markdown",
   "metadata": {},
   "source": [
    "Explore the data base to get the information I want for the company."
   ]
  },
  {
   "cell_type": "code",
   "execution_count": 8,
   "metadata": {},
   "outputs": [],
   "source": [
    "# This was to look if the data base from Mongo was well downloaded.\n",
    "# c.find_one()"
   ]
  },
  {
   "cell_type": "code",
   "execution_count": 9,
   "metadata": {},
   "outputs": [],
   "source": [
    "# This was to find with a specific condition of the ategory, and look for what i wanted to work on.\n",
    "# list(c.find({}, {\"category_code\":1}))"
   ]
  },
  {
   "cell_type": "markdown",
   "metadata": {},
   "source": [
    "#### Will choose the music industry for my company.\n",
    "Getting the music buissnes companies and start analizing them."
   ]
  },
  {
   "cell_type": "code",
   "execution_count": 10,
   "metadata": {},
   "outputs": [],
   "source": [
    "# list of all the companies with category of music in all the world.\n",
    "#list(c.find({\"category_code\":\"music\"}, {\"name\":1, \"_id\":0, \"category_code\":1}))"
   ]
  },
  {
   "cell_type": "markdown",
   "metadata": {},
   "source": [
    "Get the companies Ubication COUNTRY."
   ]
  },
  {
   "cell_type": "code",
   "execution_count": 11,
   "metadata": {},
   "outputs": [],
   "source": [
    "def music_countries (category_code, country_code):\n",
    "    condition1 = {\"category_code\":category_code}\n",
    "    projection = {\"name\":1, \"_id\":0, \"offices.country_code\":country_code}\n",
    "    countries = (list(c.find(condition1, \n",
    "               projection)))\n",
    "    \n",
    "    listcountry = [countries[i][\"offices\"][j][\"country_code\"] for i in range(len(countries)) for j in range(len(countries[i][\"offices\"]))]\n",
    "    return listcountry\n",
    "    "
   ]
  },
  {
   "cell_type": "code",
   "execution_count": 12,
   "metadata": {},
   "outputs": [],
   "source": [
    "# list of the countries with the music company industry.\n",
    "lstcountry = music_countries (\"music\", 1)"
   ]
  },
  {
   "cell_type": "code",
   "execution_count": 13,
   "metadata": {},
   "outputs": [],
   "source": [
    "#countries[0]\n",
    "#countries[0][\"offices\"]\n",
    "#countries[0][\"offices\"][0][\"country_code\"]"
   ]
  },
  {
   "cell_type": "code",
   "execution_count": 14,
   "metadata": {},
   "outputs": [],
   "source": [
    "# change it to a dictionary\n",
    "country = {\"country\": lstcountry}"
   ]
  },
  {
   "cell_type": "code",
   "execution_count": 15,
   "metadata": {},
   "outputs": [],
   "source": [
    "# make it a data frame\n",
    "dfcountry = pd.DataFrame(country)"
   ]
  },
  {
   "cell_type": "markdown",
   "metadata": {},
   "source": [
    "We see that for much USA is the place for a music company, I wanted to see if I could go to another country that had some type of competition between the USA, but if the company wants to grow, need to be in the USA."
   ]
  },
  {
   "cell_type": "code",
   "execution_count": 16,
   "metadata": {
    "scrolled": false
   },
   "outputs": [
    {
     "data": {
      "text/plain": [
       "country\n",
       "USA        30\n",
       "GBR         5\n",
       "FRA         4\n",
       "DEU         2\n",
       "BEL         1\n",
       "BRA         1\n",
       "ESP         1\n",
       "ITA         1\n",
       "LUX         1\n",
       "NLD         1\n",
       "dtype: int64"
      ]
     },
     "execution_count": 16,
     "metadata": {},
     "output_type": "execute_result"
    }
   ],
   "source": [
    "dfcountry.value_counts()[:10]"
   ]
  },
  {
   "cell_type": "markdown",
   "metadata": {},
   "source": [
    "hacer otra columna del value count de los paises"
   ]
  },
  {
   "cell_type": "code",
   "execution_count": 17,
   "metadata": {},
   "outputs": [
    {
     "data": {
      "text/html": [
       "<div>\n",
       "<style scoped>\n",
       "    .dataframe tbody tr th:only-of-type {\n",
       "        vertical-align: middle;\n",
       "    }\n",
       "\n",
       "    .dataframe tbody tr th {\n",
       "        vertical-align: top;\n",
       "    }\n",
       "\n",
       "    .dataframe thead th {\n",
       "        text-align: right;\n",
       "    }\n",
       "</style>\n",
       "<table border=\"1\" class=\"dataframe\">\n",
       "  <thead>\n",
       "    <tr style=\"text-align: right;\">\n",
       "      <th></th>\n",
       "      <th>country</th>\n",
       "    </tr>\n",
       "  </thead>\n",
       "  <tbody>\n",
       "    <tr>\n",
       "      <th>40</th>\n",
       "      <td>FRA</td>\n",
       "    </tr>\n",
       "    <tr>\n",
       "      <th>0</th>\n",
       "      <td>USA</td>\n",
       "    </tr>\n",
       "    <tr>\n",
       "      <th>37</th>\n",
       "      <td>USA</td>\n",
       "    </tr>\n",
       "  </tbody>\n",
       "</table>\n",
       "</div>"
      ],
      "text/plain": [
       "   country\n",
       "40     FRA\n",
       "0      USA\n",
       "37     USA"
      ]
     },
     "execution_count": 17,
     "metadata": {},
     "output_type": "execute_result"
    }
   ],
   "source": [
    "dfcountry.sample(3)"
   ]
  },
  {
   "cell_type": "markdown",
   "metadata": {},
   "source": [
    " "
   ]
  },
  {
   "cell_type": "markdown",
   "metadata": {},
   "source": [
    "### Searching for the city"
   ]
  },
  {
   "cell_type": "code",
   "execution_count": 18,
   "metadata": {},
   "outputs": [],
   "source": [
    "condition1 = {\"category_code\":\"music\"}\n",
    "condition2 = {\"offices.city\":\"San Diego\"}\n",
    "projection = {\"name\":1, \"_id\":0, \"offices.address1\":1}\n",
    "x = (list(c.find({\"$and\":\n",
    "                [condition1, condition2]},\n",
    "                   projection)))\n",
    "\n",
    "  "
   ]
  },
  {
   "cell_type": "code",
   "execution_count": 19,
   "metadata": {},
   "outputs": [
    {
     "data": {
      "text/plain": [
       "[{'name': 'Slacker',\n",
       "  'offices': [{'address1': '16935 W. Bernardo Dr. Suite 101'}]},\n",
       " {'name': 'Bandsintown',\n",
       "  'offices': [{'address1': '800 W Ivy Street, Unit C'},\n",
       "   {'address1': '215 Lexington Ave'}]}]"
      ]
     },
     "execution_count": 19,
     "metadata": {},
     "output_type": "execute_result"
    }
   ],
   "source": [
    "x"
   ]
  },
  {
   "cell_type": "code",
   "execution_count": 20,
   "metadata": {},
   "outputs": [],
   "source": [
    "def music_cities (category_code, cities):\n",
    "    condition1 = {\"category_code\":category_code}\n",
    "    projection = {\"name\":1, \"_id\":0, \"offices.city\":cities}\n",
    "    city = (list(c.find(condition1, \n",
    "               projection)))\n",
    "    \n",
    "    lstcity = [city[i][\"offices\"][j][\"city\"] for i in range(len(city)) for j in range(len(city[i][\"offices\"]))]\n",
    "    return lstcity"
   ]
  },
  {
   "cell_type": "code",
   "execution_count": 21,
   "metadata": {},
   "outputs": [],
   "source": [
    "lstcity = music_cities (\"music\", 1)"
   ]
  },
  {
   "cell_type": "markdown",
   "metadata": {},
   "source": [
    "Merge the 2 columns of country and city and new count column"
   ]
  },
  {
   "cell_type": "code",
   "execution_count": 22,
   "metadata": {},
   "outputs": [],
   "source": [
    "def combine_lists (lst1, lst2):\n",
    "    # change the 2 lists into a dictionary\n",
    "    location = {\"cities\": lst1,\n",
    "            \"country\": lst2} \n",
    "    # create them a Data Frame.\n",
    "    location = pd.DataFrame(location)\n",
    "    # create a new column with the value_counts of cities.\n",
    "    location[\"count\"] = location.groupby([\"cities\"])[\"country\"].transform(\"count\")\n",
    "    return location"
   ]
  },
  {
   "cell_type": "code",
   "execution_count": 23,
   "metadata": {},
   "outputs": [],
   "source": [
    "location_df = combine_lists (lstcity, lstcountry)"
   ]
  },
  {
   "cell_type": "code",
   "execution_count": 24,
   "metadata": {},
   "outputs": [
    {
     "data": {
      "text/html": [
       "<div>\n",
       "<style scoped>\n",
       "    .dataframe tbody tr th:only-of-type {\n",
       "        vertical-align: middle;\n",
       "    }\n",
       "\n",
       "    .dataframe tbody tr th {\n",
       "        vertical-align: top;\n",
       "    }\n",
       "\n",
       "    .dataframe thead th {\n",
       "        text-align: right;\n",
       "    }\n",
       "</style>\n",
       "<table border=\"1\" class=\"dataframe\">\n",
       "  <thead>\n",
       "    <tr style=\"text-align: right;\">\n",
       "      <th></th>\n",
       "      <th>cities</th>\n",
       "      <th>country</th>\n",
       "      <th>count</th>\n",
       "    </tr>\n",
       "  </thead>\n",
       "  <tbody>\n",
       "    <tr>\n",
       "      <th>38</th>\n",
       "      <td>San Francisco</td>\n",
       "      <td>USA</td>\n",
       "      <td>9</td>\n",
       "    </tr>\n",
       "    <tr>\n",
       "      <th>16</th>\n",
       "      <td>London</td>\n",
       "      <td>GBR</td>\n",
       "      <td>4</td>\n",
       "    </tr>\n",
       "    <tr>\n",
       "      <th>39</th>\n",
       "      <td>Brussels</td>\n",
       "      <td>BEL</td>\n",
       "      <td>1</td>\n",
       "    </tr>\n",
       "  </tbody>\n",
       "</table>\n",
       "</div>"
      ],
      "text/plain": [
       "           cities country  count\n",
       "38  San Francisco     USA      9\n",
       "16         London     GBR      4\n",
       "39       Brussels     BEL      1"
      ]
     },
     "execution_count": 24,
     "metadata": {},
     "output_type": "execute_result"
    }
   ],
   "source": [
    "location_df.sample(3)"
   ]
  },
  {
   "cell_type": "markdown",
   "metadata": {},
   "source": [
    "Will do a drop duplicated and drop na "
   ]
  },
  {
   "cell_type": "code",
   "execution_count": 25,
   "metadata": {},
   "outputs": [],
   "source": [
    "def clean_df_citycountry (df):\n",
    "    x = df.combine_first(df).reset_index().reindex(df.columns, axis=1).drop_duplicates()\n",
    "    x.dropna(how=\"any\", inplace=True)\n",
    "    return x"
   ]
  },
  {
   "cell_type": "code",
   "execution_count": 26,
   "metadata": {},
   "outputs": [
    {
     "data": {
      "text/html": [
       "<div>\n",
       "<style scoped>\n",
       "    .dataframe tbody tr th:only-of-type {\n",
       "        vertical-align: middle;\n",
       "    }\n",
       "\n",
       "    .dataframe tbody tr th {\n",
       "        vertical-align: top;\n",
       "    }\n",
       "\n",
       "    .dataframe thead th {\n",
       "        text-align: right;\n",
       "    }\n",
       "</style>\n",
       "<table border=\"1\" class=\"dataframe\">\n",
       "  <thead>\n",
       "    <tr style=\"text-align: right;\">\n",
       "      <th></th>\n",
       "      <th>cities</th>\n",
       "      <th>country</th>\n",
       "      <th>count</th>\n",
       "    </tr>\n",
       "  </thead>\n",
       "  <tbody>\n",
       "    <tr>\n",
       "      <th>44</th>\n",
       "      <td>Sainte Florence</td>\n",
       "      <td>FRA</td>\n",
       "      <td>1</td>\n",
       "    </tr>\n",
       "    <tr>\n",
       "      <th>11</th>\n",
       "      <td>Oxford</td>\n",
       "      <td>GBR</td>\n",
       "      <td>1</td>\n",
       "    </tr>\n",
       "    <tr>\n",
       "      <th>34</th>\n",
       "      <td>Sao Paulo</td>\n",
       "      <td>BRA</td>\n",
       "      <td>1</td>\n",
       "    </tr>\n",
       "  </tbody>\n",
       "</table>\n",
       "</div>"
      ],
      "text/plain": [
       "             cities country  count\n",
       "44  Sainte Florence     FRA      1\n",
       "11           Oxford     GBR      1\n",
       "34        Sao Paulo     BRA      1"
      ]
     },
     "execution_count": 26,
     "metadata": {},
     "output_type": "execute_result"
    }
   ],
   "source": [
    "location_clean = clean_df_citycountry (location_df)\n",
    "location_clean.sample(3)"
   ]
  },
  {
   "cell_type": "markdown",
   "metadata": {},
   "source": [
    "Export the data frame of location into a CSV file."
   ]
  },
  {
   "cell_type": "code",
   "execution_count": 27,
   "metadata": {},
   "outputs": [],
   "source": [
    "def export_location (df):\n",
    "    return df.to_csv(f\"D:\\\\ironhack\\\\proyectos\\\\GeoSpatialData_proy3\\csv\\\\location_clean.csv\")\n",
    "    "
   ]
  },
  {
   "cell_type": "code",
   "execution_count": 28,
   "metadata": {},
   "outputs": [],
   "source": [
    "export_location (location_clean)"
   ]
  },
  {
   "cell_type": "markdown",
   "metadata": {},
   "source": [
    "## 2. Startup environment."
   ]
  },
  {
   "cell_type": "code",
   "execution_count": 29,
   "metadata": {},
   "outputs": [],
   "source": [
    "def startups_cooord (city, amount):\n",
    "    # Conditions for city and amount of the company.\n",
    "    condition1 = {\"offices.city\":city}\n",
    "    condition2 = {\"acquisitions.price_amount\":{\"$gte\":amount}}\n",
    "    projection = {\"name\":1, \"_id\":0, \"category_code\":1, \"offices.latitude\":1, \"offices.longitude\":1}\n",
    "    x = (list(c.find({\"$and\":\n",
    "                             [condition1, condition2]},\n",
    "                   projection)))\n",
    "    return x"
   ]
  },
  {
   "cell_type": "code",
   "execution_count": 30,
   "metadata": {},
   "outputs": [
    {
     "data": {
      "text/plain": [
       "[{'name': 'Facebook',\n",
       "  'category_code': 'social',\n",
       "  'offices': [{'latitude': 37.41605, 'longitude': -122.151801},\n",
       "   {'latitude': 53.344104, 'longitude': -6.267494},\n",
       "   {'latitude': 40.7557162, 'longitude': -73.9792469}]},\n",
       " {'name': 'Viacom',\n",
       "  'category_code': 'web',\n",
       "  'offices': [{'latitude': 40.757725, 'longitude': -73.986011}]},\n",
       " {'name': 'Google',\n",
       "  'category_code': 'search',\n",
       "  'offices': [{'latitude': 37.421972, 'longitude': -122.084143},\n",
       "   {'latitude': 42.280988, 'longitude': -83.748882},\n",
       "   {'latitude': 33.781466, 'longitude': -84.387519},\n",
       "   {'latitude': 30.351416, 'longitude': -97.751382},\n",
       "   {'latitude': 40.021416, 'longitude': -105.260931},\n",
       "   {'latitude': 42.36305, 'longitude': -71.087478},\n",
       "   {'latitude': 41.889474, 'longitude': -87.628912},\n",
       "   {'latitude': 32.981465, 'longitude': -97.018196},\n",
       "   {'latitude': 32.809161, 'longitude': -96.807693},\n",
       "   {'latitude': 39.62919, 'longitude': -104.898419},\n",
       "   {'latitude': 42.547807, 'longitude': -83.215498},\n",
       "   {'latitude': 33.658331, 'longitude': -117.861817},\n",
       "   {'latitude': None, 'longitude': None},\n",
       "   {'latitude': 40.74222, 'longitude': -74.004489},\n",
       "   {'latitude': 33.411898, 'longitude': -111.926263},\n",
       "   {'latitude': 40.444528, 'longitude': -79.946269},\n",
       "   {'latitude': 37.789803, 'longitude': -122.389757},\n",
       "   {'latitude': 34.019282, 'longitude': -118.494288},\n",
       "   {'latitude': 47.675326, 'longitude': -122.351397},\n",
       "   {'latitude': 47.649701, 'longitude': -122.350592},\n",
       "   {'latitude': 38.901113, 'longitude': -77.027101},\n",
       "   {'latitude': -37.879234, 'longitude': 145.073608},\n",
       "   {'latitude': -34.822723, 'longitude': 138.612396},\n",
       "   {'latitude': None, 'longitude': None},\n",
       "   {'latitude': None, 'longitude': None},\n",
       "   {'latitude': None, 'longitude': None},\n",
       "   {'latitude': None, 'longitude': None},\n",
       "   {'latitude': None, 'longitude': None},\n",
       "   {'latitude': None, 'longitude': None},\n",
       "   {'latitude': 28.86999, 'longitude': 77.122261},\n",
       "   {'latitude': None, 'longitude': None},\n",
       "   {'latitude': None, 'longitude': None},\n",
       "   {'latitude': None, 'longitude': None},\n",
       "   {'latitude': None, 'longitude': None},\n",
       "   {'latitude': None, 'longitude': None},\n",
       "   {'latitude': None, 'longitude': None},\n",
       "   {'latitude': None, 'longitude': None},\n",
       "   {'latitude': 56.171882, 'longitude': 10.187799},\n",
       "   {'latitude': None, 'longitude': None},\n",
       "   {'latitude': None, 'longitude': None},\n",
       "   {'latitude': 48.869606, 'longitude': 2.332749},\n",
       "   {'latitude': 53.554052, 'longitude': 9.985266},\n",
       "   {'latitude': 53.339914, 'longitude': -6.234424},\n",
       "   {'latitude': 45.46381, 'longitude': 9.195978},\n",
       "   {'latitude': 52.337495, 'longitude': 4.871464},\n",
       "   {'latitude': 59.915848, 'longitude': 10.741047},\n",
       "   {'latitude': 63.435324, 'longitude': 10.412428},\n",
       "   {'latitude': 50.063281, 'longitude': 19.929806},\n",
       "   {'latitude': 51.116574, 'longitude': 17.041942},\n",
       "   {'latitude': None, 'longitude': None},\n",
       "   {'latitude': None, 'longitude': None},\n",
       "   {'latitude': None, 'longitude': None},\n",
       "   {'latitude': 65.617491, 'longitude': 22.126255},\n",
       "   {'latitude': 59.332344, 'longitude': 18.060162},\n",
       "   {'latitude': 47.36554, 'longitude': 8.524864},\n",
       "   {'latitude': None, 'longitude': None},\n",
       "   {'latitude': 53.473606, 'longitude': -2.250166},\n",
       "   {'latitude': 45.498588, 'longitude': -73.567044},\n",
       "   {'latitude': None, 'longitude': None},\n",
       "   {'latitude': 43.474704, 'longitude': -80.546381},\n",
       "   {'latitude': None, 'longitude': None},\n",
       "   {'latitude': -23.590463, 'longitude': -46.681494},\n",
       "   {'latitude': 19.507519, 'longitude': -99.030156},\n",
       "   {'latitude': None, 'longitude': None},\n",
       "   {'latitude': None, 'longitude': None},\n",
       "   {'latitude': None, 'longitude': None},\n",
       "   {'latitude': None, 'longitude': None}]},\n",
       " {'name': 'Brightcove',\n",
       "  'category_code': 'enterprise',\n",
       "  'offices': [{'latitude': 42.362993, 'longitude': -71.086596},\n",
       "   {'latitude': None, 'longitude': None},\n",
       "   {'latitude': None, 'longitude': None},\n",
       "   {'latitude': None, 'longitude': None},\n",
       "   {'latitude': None, 'longitude': None},\n",
       "   {'latitude': None, 'longitude': None},\n",
       "   {'latitude': None, 'longitude': None}]},\n",
       " {'name': 'IAC',\n",
       "  'category_code': 'news',\n",
       "  'offices': [{'latitude': 40.745172, 'longitude': -74.007646}]},\n",
       " {'name': 'AOL',\n",
       "  'category_code': 'web',\n",
       "  'offices': [{'latitude': 40.7311317, 'longitude': -73.9919311}]},\n",
       " {'name': 'KIT digital',\n",
       "  'category_code': 'enterprise',\n",
       "  'offices': [{'latitude': 40.751816, 'longitude': -73.971655},\n",
       "   {'latitude': None, 'longitude': None},\n",
       "   {'latitude': None, 'longitude': None},\n",
       "   {'latitude': None, 'longitude': None},\n",
       "   {'latitude': 59.3369746, 'longitude': 18.0580765},\n",
       "   {'latitude': None, 'longitude': None},\n",
       "   {'latitude': None, 'longitude': None},\n",
       "   {'latitude': None, 'longitude': None},\n",
       "   {'latitude': 43.6587599, 'longitude': -79.5983626},\n",
       "   {'latitude': None, 'longitude': None}]},\n",
       " {'name': 'Nielsen',\n",
       "  'category_code': 'web',\n",
       "  'offices': [{'latitude': 40.731118, 'longitude': -73.991933}]},\n",
       " {'name': 'MIVA',\n",
       "  'category_code': 'advertising',\n",
       "  'offices': [{'latitude': 40.733276, 'longitude': -73.9932793}]},\n",
       " {'name': 'Adknowledge',\n",
       "  'category_code': 'advertising',\n",
       "  'offices': [{'latitude': 39.044694, 'longitude': -94.597896},\n",
       "   {'latitude': 40.748901, 'longitude': -73.992463},\n",
       "   {'latitude': 37.78866, 'longitude': -122.401406},\n",
       "   {'latitude': 26.580095, 'longitude': -81.879069},\n",
       "   {'latitude': 43.6474554, 'longitude': -79.3953743},\n",
       "   {'latitude': 51.5114403, 'longitude': -0.1229212},\n",
       "   {'latitude': 48.1635092, 'longitude': 11.5582609},\n",
       "   {'latitude': 48.8506065, 'longitude': 2.3797825},\n",
       "   {'latitude': 31.222622, 'longitude': 121.4770384}]},\n",
       " {'name': 'eMusic',\n",
       "  'category_code': 'games_video',\n",
       "  'offices': [{'latitude': None, 'longitude': None}]},\n",
       " {'name': 'TheStreet',\n",
       "  'category_code': 'finance',\n",
       "  'offices': [{'latitude': 40.707645, 'longitude': -74.010816}]},\n",
       " {'name': 'Monster',\n",
       "  'category_code': 'search',\n",
       "  'offices': [{'latitude': 42.42517, 'longitude': -71.45677}]},\n",
       " {'name': 'XO Group',\n",
       "  'category_code': 'web',\n",
       "  'offices': [{'latitude': 40.720824, 'longitude': -74.00007}]},\n",
       " {'name': 'Comverse Technology',\n",
       "  'category_code': 'software',\n",
       "  'offices': [{'latitude': 36.162612, 'longitude': -106.53529}]},\n",
       " {'name': 'Reuters',\n",
       "  'category_code': None,\n",
       "  'offices': [{'latitude': 40.757929, 'longitude': -73.985506}]},\n",
       " {'name': 'MTV Networks',\n",
       "  'category_code': 'advertising',\n",
       "  'offices': [{'latitude': 40.757725, 'longitude': -73.986011}]},\n",
       " {'name': 'Adconion Media Group',\n",
       "  'category_code': 'advertising',\n",
       "  'offices': [{'latitude': None, 'longitude': None},\n",
       "   {'latitude': None, 'longitude': None},\n",
       "   {'latitude': None, 'longitude': None}]},\n",
       " {'name': 'WebMD',\n",
       "  'category_code': 'web',\n",
       "  'offices': [{'latitude': 40.7410886, 'longitude': -74.0015261}]},\n",
       " {'name': 'Advent Software',\n",
       "  'category_code': 'software',\n",
       "  'offices': [{'latitude': 37.771706, 'longitude': -122.402683},\n",
       "   {'latitude': None, 'longitude': None},\n",
       "   {'latitude': None, 'longitude': None},\n",
       "   {'latitude': None, 'longitude': None},\n",
       "   {'latitude': None, 'longitude': None}]},\n",
       " {'name': 'LivePerson',\n",
       "  'category_code': 'software',\n",
       "  'offices': [{'latitude': 40.751969, 'longitude': -73.99031},\n",
       "   {'latitude': 33.8656817, 'longitude': -84.4709443},\n",
       "   {'latitude': 51.4238637, 'longitude': -0.9876997},\n",
       "   {'latitude': None, 'longitude': None}]},\n",
       " {'name': 'Bloomberg',\n",
       "  'category_code': 'software',\n",
       "  'offices': [{'latitude': None, 'longitude': None}]},\n",
       " {'name': 'SnagFilms',\n",
       "  'category_code': 'social',\n",
       "  'offices': [{'latitude': None, 'longitude': None},\n",
       "   {'latitude': 38.906867, 'longitude': -77.042322}]},\n",
       " {'name': 'Thomson Reuters',\n",
       "  'category_code': 'public_relations',\n",
       "  'offices': [{'latitude': 40.7564318, 'longitude': -73.9871847}]},\n",
       " {'name': 'WPP',\n",
       "  'category_code': 'public_relations',\n",
       "  'offices': [{'latitude': 40.751513, 'longitude': -73.9779465},\n",
       "   {'latitude': None, 'longitude': None}]},\n",
       " {'name': 'Thomson Reuters',\n",
       "  'category_code': 'public_relations',\n",
       "  'offices': [{'latitude': 40.7564318, 'longitude': -73.9871847}]},\n",
       " {'name': 'WPP',\n",
       "  'category_code': 'public_relations',\n",
       "  'offices': [{'latitude': 40.751513, 'longitude': -73.9779465},\n",
       "   {'latitude': None, 'longitude': None}]},\n",
       " {'name': 'F5 Networks',\n",
       "  'category_code': 'other',\n",
       "  'offices': [{'latitude': 47.622263, 'longitude': -122.363276},\n",
       "   {'latitude': 47.667105, 'longitude': -117.111222},\n",
       "   {'latitude': 40.75304, 'longitude': -73.998135},\n",
       "   {'latitude': 37.381844, 'longitude': -121.924439},\n",
       "   {'latitude': 42.619502, 'longitude': -71.322888},\n",
       "   {'latitude': -23.620738, 'longitude': -46.698267}]},\n",
       " {'name': 'Opt-Intelligence',\n",
       "  'category_code': 'advertising',\n",
       "  'offices': [{'latitude': None, 'longitude': None}]},\n",
       " {'name': 'Centro',\n",
       "  'category_code': 'advertising',\n",
       "  'offices': [{'latitude': 41.889853, 'longitude': -87.6355433},\n",
       "   {'latitude': 40.7408753, 'longitude': -73.9920174},\n",
       "   {'latitude': 32.7819239, 'longitude': -96.790514},\n",
       "   {'latitude': 34.0312388, 'longitude': -118.4735062}]},\n",
       " {'name': 'Sapient',\n",
       "  'category_code': 'enterprise',\n",
       "  'offices': [{'latitude': None, 'longitude': None},\n",
       "   {'latitude': 40.707872, 'longitude': -74.004731},\n",
       "   {'latitude': 33.8540338, 'longitude': -84.3584803},\n",
       "   {'latitude': 41.881065, 'longitude': -87.62903},\n",
       "   {'latitude': 42.5469062, 'longitude': -83.2144938},\n",
       "   {'latitude': 25.790926, 'longitude': -80.1343277},\n",
       "   {'latitude': 37.79088, 'longitude': -122.392521},\n",
       "   {'latitude': 38.8911989, 'longitude': -77.0837482}]},\n",
       " {'name': 'Pfizer',\n",
       "  'category_code': 'biotech',\n",
       "  'offices': [{'latitude': None, 'longitude': None}]},\n",
       " {'name': 'Bristol-Myers Squibb',\n",
       "  'category_code': 'biotech',\n",
       "  'offices': [{'latitude': 40.757716, 'longitude': -73.972321}]},\n",
       " {'name': 'Internap',\n",
       "  'category_code': 'web',\n",
       "  'offices': [{'latitude': None, 'longitude': None},\n",
       "   {'latitude': None, 'longitude': None},\n",
       "   {'latitude': None, 'longitude': None},\n",
       "   {'latitude': None, 'longitude': None},\n",
       "   {'latitude': None, 'longitude': None},\n",
       "   {'latitude': None, 'longitude': None},\n",
       "   {'latitude': None, 'longitude': None},\n",
       "   {'latitude': None, 'longitude': None},\n",
       "   {'latitude': None, 'longitude': None},\n",
       "   {'latitude': None, 'longitude': None},\n",
       "   {'latitude': None, 'longitude': None},\n",
       "   {'latitude': None, 'longitude': None},\n",
       "   {'latitude': None, 'longitude': None},\n",
       "   {'latitude': None, 'longitude': None},\n",
       "   {'latitude': None, 'longitude': None}]},\n",
       " {'name': 'YouGov',\n",
       "  'category_code': 'consulting',\n",
       "  'offices': [{'latitude': 37.445111, 'longitude': -122.160779},\n",
       "   {'latitude': None, 'longitude': None}]},\n",
       " {'name': 'WebMediaBrands',\n",
       "  'category_code': 'web',\n",
       "  'offices': [{'latitude': None, 'longitude': None}]},\n",
       " {'name': 'Velti',\n",
       "  'category_code': 'mobile',\n",
       "  'offices': [{'latitude': None, 'longitude': None},\n",
       "   {'latitude': None, 'longitude': None},\n",
       "   {'latitude': None, 'longitude': None},\n",
       "   {'latitude': None, 'longitude': None},\n",
       "   {'latitude': None, 'longitude': None},\n",
       "   {'latitude': None, 'longitude': None},\n",
       "   {'latitude': None, 'longitude': None},\n",
       "   {'latitude': None, 'longitude': None},\n",
       "   {'latitude': None, 'longitude': None},\n",
       "   {'latitude': None, 'longitude': None},\n",
       "   {'latitude': None, 'longitude': None},\n",
       "   {'latitude': None, 'longitude': None},\n",
       "   {'latitude': None, 'longitude': None},\n",
       "   {'latitude': None, 'longitude': None},\n",
       "   {'latitude': None, 'longitude': None}]},\n",
       " {'name': 'Dice Holdings',\n",
       "  'category_code': 'web',\n",
       "  'offices': [{'latitude': 40.74727, 'longitude': -73.9800645}]},\n",
       " {'name': 'Backstage',\n",
       "  'category_code': 'web',\n",
       "  'offices': [{'latitude': None, 'longitude': None}]},\n",
       " {'name': 'smartFOCUS',\n",
       "  'category_code': 'software',\n",
       "  'offices': [{'latitude': 51.4525116, 'longitude': -2.5909744},\n",
       "   {'latitude': None, 'longitude': None},\n",
       "   {'latitude': None, 'longitude': None},\n",
       "   {'latitude': None, 'longitude': None},\n",
       "   {'latitude': None, 'longitude': None},\n",
       "   {'latitude': None, 'longitude': None}]}]"
      ]
     },
     "execution_count": 30,
     "metadata": {},
     "output_type": "execute_result"
    }
   ],
   "source": [
    "startups = startups_cooord (\"New York\", 1000000)\n",
    "startups"
   ]
  },
  {
   "cell_type": "code",
   "execution_count": 31,
   "metadata": {},
   "outputs": [],
   "source": [
    "def lat_startup (dict):\n",
    "    x = []\n",
    "    for i in range(len(startups)):\n",
    "        x.append(startups[i][\"offices\"][0][\"latitude\"])\n",
    "    return x"
   ]
  },
  {
   "cell_type": "code",
   "execution_count": 32,
   "metadata": {},
   "outputs": [],
   "source": [
    "def long_startup (dict):\n",
    "    y = []\n",
    "    for i in range(len(startups)):\n",
    "        y.append(startups[i][\"offices\"][0][\"longitude\"])\n",
    "    return y"
   ]
  },
  {
   "cell_type": "code",
   "execution_count": 33,
   "metadata": {},
   "outputs": [],
   "source": [
    "startups_lat = lat_startup (startups)"
   ]
  },
  {
   "cell_type": "code",
   "execution_count": 34,
   "metadata": {},
   "outputs": [],
   "source": [
    "startups_long = long_startup (startups)"
   ]
  },
  {
   "cell_type": "code",
   "execution_count": 35,
   "metadata": {},
   "outputs": [],
   "source": [
    "# Filter again the startups but without the latitud and logitude and turn it into a data frame.\n",
    "def startups_name (city, amount):\n",
    "    # Conditions for city and amount of the company.\n",
    "    condition1 = {\"offices.city\":city}\n",
    "    condition2 = {\"acquisitions.price_amount\":{\"$gte\":amount}}\n",
    "    projection = {\"name\":1, \"_id\":0, \"category_code\":1}\n",
    "    x = (list(c.find({\"$and\":\n",
    "                             [condition1, condition2]},\n",
    "                   projection)))\n",
    "    # give a Data frame with conditions and address.\n",
    "    df = pd.DataFrame(x)\n",
    "    return df    "
   ]
  },
  {
   "cell_type": "code",
   "execution_count": 36,
   "metadata": {},
   "outputs": [
    {
     "data": {
      "text/html": [
       "<div>\n",
       "<style scoped>\n",
       "    .dataframe tbody tr th:only-of-type {\n",
       "        vertical-align: middle;\n",
       "    }\n",
       "\n",
       "    .dataframe tbody tr th {\n",
       "        vertical-align: top;\n",
       "    }\n",
       "\n",
       "    .dataframe thead th {\n",
       "        text-align: right;\n",
       "    }\n",
       "</style>\n",
       "<table border=\"1\" class=\"dataframe\">\n",
       "  <thead>\n",
       "    <tr style=\"text-align: right;\">\n",
       "      <th></th>\n",
       "      <th>name</th>\n",
       "      <th>category_code</th>\n",
       "    </tr>\n",
       "  </thead>\n",
       "  <tbody>\n",
       "    <tr>\n",
       "      <th>33</th>\n",
       "      <td>Internap</td>\n",
       "      <td>web</td>\n",
       "    </tr>\n",
       "    <tr>\n",
       "      <th>1</th>\n",
       "      <td>Viacom</td>\n",
       "      <td>web</td>\n",
       "    </tr>\n",
       "    <tr>\n",
       "      <th>14</th>\n",
       "      <td>Comverse Technology</td>\n",
       "      <td>software</td>\n",
       "    </tr>\n",
       "  </tbody>\n",
       "</table>\n",
       "</div>"
      ],
      "text/plain": [
       "                   name category_code\n",
       "33             Internap           web\n",
       "1                Viacom           web\n",
       "14  Comverse Technology      software"
      ]
     },
     "execution_count": 36,
     "metadata": {},
     "output_type": "execute_result"
    }
   ],
   "source": [
    "start_names = startups_name (\"New York\", 1000000)\n",
    "start_names.sample(3)"
   ]
  },
  {
   "cell_type": "markdown",
   "metadata": {},
   "source": [
    "Make a dictionary with all values to create a data base."
   ]
  },
  {
   "cell_type": "code",
   "execution_count": 37,
   "metadata": {},
   "outputs": [],
   "source": [
    "# dictionary for latitud and long, to create df.\n",
    "def coord_df (lats, longs):\n",
    "    lon_lat = {\"latitud\": lats,\n",
    "              \"longitude\": longs}\n",
    "    df = pd.DataFrame(lon_lat)\n",
    "    return df"
   ]
  },
  {
   "cell_type": "code",
   "execution_count": 38,
   "metadata": {},
   "outputs": [],
   "source": [
    "df = coord_df (startups_lat, startups_long)"
   ]
  },
  {
   "cell_type": "code",
   "execution_count": 39,
   "metadata": {},
   "outputs": [
    {
     "data": {
      "text/html": [
       "<div>\n",
       "<style scoped>\n",
       "    .dataframe tbody tr th:only-of-type {\n",
       "        vertical-align: middle;\n",
       "    }\n",
       "\n",
       "    .dataframe tbody tr th {\n",
       "        vertical-align: top;\n",
       "    }\n",
       "\n",
       "    .dataframe thead th {\n",
       "        text-align: right;\n",
       "    }\n",
       "</style>\n",
       "<table border=\"1\" class=\"dataframe\">\n",
       "  <thead>\n",
       "    <tr style=\"text-align: right;\">\n",
       "      <th></th>\n",
       "      <th>latitud</th>\n",
       "      <th>longitude</th>\n",
       "    </tr>\n",
       "  </thead>\n",
       "  <tbody>\n",
       "    <tr>\n",
       "      <th>34</th>\n",
       "      <td>37.445111</td>\n",
       "      <td>-122.160779</td>\n",
       "    </tr>\n",
       "    <tr>\n",
       "      <th>1</th>\n",
       "      <td>40.757725</td>\n",
       "      <td>-73.986011</td>\n",
       "    </tr>\n",
       "    <tr>\n",
       "      <th>39</th>\n",
       "      <td>51.452512</td>\n",
       "      <td>-2.590974</td>\n",
       "    </tr>\n",
       "  </tbody>\n",
       "</table>\n",
       "</div>"
      ],
      "text/plain": [
       "      latitud   longitude\n",
       "34  37.445111 -122.160779\n",
       "1   40.757725  -73.986011\n",
       "39  51.452512   -2.590974"
      ]
     },
     "execution_count": 39,
     "metadata": {},
     "output_type": "execute_result"
    }
   ],
   "source": [
    "df.sample(3)"
   ]
  },
  {
   "cell_type": "code",
   "execution_count": 40,
   "metadata": {},
   "outputs": [],
   "source": [
    "# concat the 2 df.\n",
    "def concat_axis1 (df1, df2):\n",
    "    starts = pd.concat([df1, df2], axis=1)\n",
    "    return starts"
   ]
  },
  {
   "cell_type": "code",
   "execution_count": 41,
   "metadata": {},
   "outputs": [],
   "source": [
    "startups = concat_axis1 (start_names, df)"
   ]
  },
  {
   "cell_type": "code",
   "execution_count": 42,
   "metadata": {},
   "outputs": [
    {
     "data": {
      "text/html": [
       "<div>\n",
       "<style scoped>\n",
       "    .dataframe tbody tr th:only-of-type {\n",
       "        vertical-align: middle;\n",
       "    }\n",
       "\n",
       "    .dataframe tbody tr th {\n",
       "        vertical-align: top;\n",
       "    }\n",
       "\n",
       "    .dataframe thead th {\n",
       "        text-align: right;\n",
       "    }\n",
       "</style>\n",
       "<table border=\"1\" class=\"dataframe\">\n",
       "  <thead>\n",
       "    <tr style=\"text-align: right;\">\n",
       "      <th></th>\n",
       "      <th>name</th>\n",
       "      <th>category_code</th>\n",
       "      <th>latitud</th>\n",
       "      <th>longitude</th>\n",
       "    </tr>\n",
       "  </thead>\n",
       "  <tbody>\n",
       "    <tr>\n",
       "      <th>24</th>\n",
       "      <td>WPP</td>\n",
       "      <td>public_relations</td>\n",
       "      <td>40.751513</td>\n",
       "      <td>-73.977947</td>\n",
       "    </tr>\n",
       "  </tbody>\n",
       "</table>\n",
       "</div>"
      ],
      "text/plain": [
       "   name     category_code    latitud  longitude\n",
       "24  WPP  public_relations  40.751513 -73.977947"
      ]
     },
     "execution_count": 42,
     "metadata": {},
     "output_type": "execute_result"
    }
   ],
   "source": [
    "startups.sample()"
   ]
  },
  {
   "cell_type": "markdown",
   "metadata": {},
   "source": [
    "Get to de df new points columns for plot it in the map."
   ]
  },
  {
   "cell_type": "markdown",
   "metadata": {},
   "source": [
    "Export clean Data frame of startups, their category and their address inside San diego.\n",
    "export dictionary for maping."
   ]
  },
  {
   "cell_type": "markdown",
   "metadata": {},
   "source": [
    "como guardarlo en json para exportarlo??????????????????????????????"
   ]
  },
  {
   "cell_type": "code",
   "execution_count": 43,
   "metadata": {},
   "outputs": [],
   "source": [
    "#with open (\"startupsNYjson.json\", \"w\") as f:\n",
    "#    json.dump(startups, f)"
   ]
  },
  {
   "cell_type": "code",
   "execution_count": 44,
   "metadata": {},
   "outputs": [],
   "source": [
    "def export_NY_startups (df):\n",
    "    return df.to_csv(f\"D:\\\\ironhack\\\\proyectos\\\\GeoSpatialData_proy3\\csv\\\\startups_newyork.csv\")"
   ]
  },
  {
   "cell_type": "code",
   "execution_count": 45,
   "metadata": {},
   "outputs": [],
   "source": [
    "export_NY_startups (startups)"
   ]
  },
  {
   "cell_type": "markdown",
   "metadata": {},
   "source": [
    "## 3. Foursquare."
   ]
  },
  {
   "cell_type": "code",
   "execution_count": 46,
   "metadata": {},
   "outputs": [
    {
     "name": "stdout",
     "output_type": "stream",
     "text": [
      "········\n"
     ]
    }
   ],
   "source": [
    "token = getpass()"
   ]
  },
  {
   "cell_type": "markdown",
   "metadata": {},
   "source": [
    "### 3.1. Starbucks."
   ]
  },
  {
   "cell_type": "code",
   "execution_count": 289,
   "metadata": {},
   "outputs": [
    {
     "data": {
      "text/plain": [
       "<Response [200]>"
      ]
     },
     "execution_count": 289,
     "metadata": {},
     "output_type": "execute_result"
    }
   ],
   "source": [
    "url = \"https://api.foursquare.com/v3/places/search\"\n",
    "\n",
    "params = {\n",
    "    \"query\": \"starbucks\",\n",
    "    \"ll\": \"40.751693,-73.989676\",\n",
    "    \"open_now\": \"true\",\n",
    "    \"sort\":\"DISTANCE\",\n",
    "    \"radius\": 15000,\n",
    "    \"limit\": 20\n",
    "}\n",
    "\n",
    "headers = {\n",
    "    \"Accept\": \"application/json\",\n",
    "    \"Authorization\": token\n",
    "}\n",
    "\n",
    "response = requests.request(\"GET\", url, params=params, headers=headers)\n",
    "\n",
    "response"
   ]
  },
  {
   "cell_type": "code",
   "execution_count": 290,
   "metadata": {},
   "outputs": [],
   "source": [
    "starbucks = response.json()[\"results\"]"
   ]
  },
  {
   "cell_type": "code",
   "execution_count": 291,
   "metadata": {},
   "outputs": [
    {
     "data": {
      "text/plain": [
       "20"
      ]
     },
     "execution_count": 291,
     "metadata": {},
     "output_type": "execute_result"
    }
   ],
   "source": [
    "len(starbucks)"
   ]
  },
  {
   "cell_type": "code",
   "execution_count": 292,
   "metadata": {},
   "outputs": [
    {
     "data": {
      "text/plain": [
       "40.751907"
      ]
     },
     "execution_count": 292,
     "metadata": {},
     "output_type": "execute_result"
    }
   ],
   "source": [
    "starbucks[0][\"geocodes\"][\"main\"][\"latitude\"]"
   ]
  },
  {
   "cell_type": "code",
   "execution_count": 294,
   "metadata": {},
   "outputs": [],
   "source": [
    "# Make a dictionary for a single index.\n",
    "def coord_name (dict_):\n",
    "    dicts = {\"name\": dict_[\"name\"],\n",
    "            \"latitude\": dict_[\"geocodes\"][\"main\"][\"latitude\"],\n",
    "             \"longitude\": dict_[\"geocodes\"][\"main\"][\"longitude\"]}\n",
    "    # Make a dictionary with the dictionary of the single index but iteration with the rest. \n",
    "    \n",
    "    return dicts"
   ]
  },
  {
   "cell_type": "code",
   "execution_count": 295,
   "metadata": {},
   "outputs": [
    {
     "data": {
      "text/plain": [
       "{'name': 'Starbucks', 'latitude': 40.751907, 'longitude': -73.990217}"
      ]
     },
     "execution_count": 295,
     "metadata": {},
     "output_type": "execute_result"
    }
   ],
   "source": [
    "coord_name (starbucks[0])"
   ]
  },
  {
   "cell_type": "code",
   "execution_count": 296,
   "metadata": {},
   "outputs": [],
   "source": [
    "# Make a dictionary with the dictionary of the single index but iteration with the rest.\n",
    "lst = []\n",
    "for i in response.json()[\"results\"]:\n",
    "    lst.append(coord_name(i))"
   ]
  },
  {
   "cell_type": "code",
   "execution_count": 299,
   "metadata": {},
   "outputs": [
    {
     "data": {
      "text/html": [
       "<div>\n",
       "<style scoped>\n",
       "    .dataframe tbody tr th:only-of-type {\n",
       "        vertical-align: middle;\n",
       "    }\n",
       "\n",
       "    .dataframe tbody tr th {\n",
       "        vertical-align: top;\n",
       "    }\n",
       "\n",
       "    .dataframe thead th {\n",
       "        text-align: right;\n",
       "    }\n",
       "</style>\n",
       "<table border=\"1\" class=\"dataframe\">\n",
       "  <thead>\n",
       "    <tr style=\"text-align: right;\">\n",
       "      <th></th>\n",
       "      <th>name</th>\n",
       "      <th>latitude</th>\n",
       "      <th>longitude</th>\n",
       "    </tr>\n",
       "  </thead>\n",
       "  <tbody>\n",
       "    <tr>\n",
       "      <th>15</th>\n",
       "      <td>Starbucks</td>\n",
       "      <td>40.756720</td>\n",
       "      <td>-73.985819</td>\n",
       "    </tr>\n",
       "    <tr>\n",
       "      <th>13</th>\n",
       "      <td>Starbucks</td>\n",
       "      <td>40.749103</td>\n",
       "      <td>-73.983803</td>\n",
       "    </tr>\n",
       "    <tr>\n",
       "      <th>3</th>\n",
       "      <td>Starbucks</td>\n",
       "      <td>40.750966</td>\n",
       "      <td>-73.987079</td>\n",
       "    </tr>\n",
       "  </tbody>\n",
       "</table>\n",
       "</div>"
      ],
      "text/plain": [
       "         name   latitude  longitude\n",
       "15  Starbucks  40.756720 -73.985819\n",
       "13  Starbucks  40.749103 -73.983803\n",
       "3   Starbucks  40.750966 -73.987079"
      ]
     },
     "execution_count": 299,
     "metadata": {},
     "output_type": "execute_result"
    }
   ],
   "source": [
    "starbucks = pd.DataFrame(lst)\n",
    "starbucks.sample(3)"
   ]
  },
  {
   "cell_type": "markdown",
   "metadata": {},
   "source": [
    "Export data frame."
   ]
  },
  {
   "cell_type": "code",
   "execution_count": 300,
   "metadata": {},
   "outputs": [],
   "source": [
    "def export_NY_starbucks (df):\n",
    "    return df.to_csv(f\"D:\\\\ironhack\\\\proyectos\\\\GeoSpatialData_proy3\\csv\\\\starbucks_newyork.csv\")"
   ]
  },
  {
   "cell_type": "code",
   "execution_count": 301,
   "metadata": {},
   "outputs": [],
   "source": [
    "export_NY_starbucks (starbucks)"
   ]
  },
  {
   "cell_type": "markdown",
   "metadata": {},
   "source": [
    "### 3.2. Schools."
   ]
  },
  {
   "cell_type": "code",
   "execution_count": 302,
   "metadata": {},
   "outputs": [
    {
     "data": {
      "text/plain": [
       "<Response [200]>"
      ]
     },
     "execution_count": 302,
     "metadata": {},
     "output_type": "execute_result"
    }
   ],
   "source": [
    "url = \"https://api.foursquare.com/v3/places/search\"\n",
    "\n",
    "params = {\n",
    "    \"query\": \"schools\",\n",
    "    \"ll\": \"40.751693,-73.989676\",\n",
    "    \"open_now\": \"true\",\n",
    "    \"sort\":\"DISTANCE\",\n",
    "    \"radius\": 15000,\n",
    "    \"limit\": 20\n",
    "}\n",
    "\n",
    "headers = {\n",
    "    \"Accept\": \"application/json\",\n",
    "    \"Authorization\": token\n",
    "}\n",
    "\n",
    "response = requests.request(\"GET\", url, params=params, headers=headers)\n",
    "\n",
    "response"
   ]
  },
  {
   "cell_type": "code",
   "execution_count": 303,
   "metadata": {},
   "outputs": [],
   "source": [
    "schools = response.json()[\"results\"]"
   ]
  },
  {
   "cell_type": "code",
   "execution_count": 304,
   "metadata": {},
   "outputs": [
    {
     "data": {
      "text/plain": [
       "20"
      ]
     },
     "execution_count": 304,
     "metadata": {},
     "output_type": "execute_result"
    }
   ],
   "source": [
    "len(schools)"
   ]
  },
  {
   "cell_type": "code",
   "execution_count": 305,
   "metadata": {},
   "outputs": [
    {
     "data": {
      "text/plain": [
       "{'name': 'ABC Bartending School',\n",
       " 'latitude': 40.752921,\n",
       " 'longitude': -73.992616}"
      ]
     },
     "execution_count": 305,
     "metadata": {},
     "output_type": "execute_result"
    }
   ],
   "source": [
    "coord_name (schools[0])\n"
   ]
  },
  {
   "cell_type": "code",
   "execution_count": 306,
   "metadata": {},
   "outputs": [],
   "source": [
    "lst = []\n",
    "for i in response.json()[\"results\"]:\n",
    "    lst.append(coord_name(i))"
   ]
  },
  {
   "cell_type": "code",
   "execution_count": 308,
   "metadata": {},
   "outputs": [
    {
     "data": {
      "text/html": [
       "<div>\n",
       "<style scoped>\n",
       "    .dataframe tbody tr th:only-of-type {\n",
       "        vertical-align: middle;\n",
       "    }\n",
       "\n",
       "    .dataframe tbody tr th {\n",
       "        vertical-align: top;\n",
       "    }\n",
       "\n",
       "    .dataframe thead th {\n",
       "        text-align: right;\n",
       "    }\n",
       "</style>\n",
       "<table border=\"1\" class=\"dataframe\">\n",
       "  <thead>\n",
       "    <tr style=\"text-align: right;\">\n",
       "      <th></th>\n",
       "      <th>name</th>\n",
       "      <th>latitude</th>\n",
       "      <th>longitude</th>\n",
       "    </tr>\n",
       "  </thead>\n",
       "  <tbody>\n",
       "    <tr>\n",
       "      <th>0</th>\n",
       "      <td>ABC Bartending School</td>\n",
       "      <td>40.752921</td>\n",
       "      <td>-73.992616</td>\n",
       "    </tr>\n",
       "    <tr>\n",
       "      <th>16</th>\n",
       "      <td>Ny Kids Club</td>\n",
       "      <td>40.766279</td>\n",
       "      <td>-73.961508</td>\n",
       "    </tr>\n",
       "    <tr>\n",
       "      <th>11</th>\n",
       "      <td>Kitchen Rental NYC</td>\n",
       "      <td>40.763024</td>\n",
       "      <td>-73.986198</td>\n",
       "    </tr>\n",
       "  </tbody>\n",
       "</table>\n",
       "</div>"
      ],
      "text/plain": [
       "                     name   latitude  longitude\n",
       "0   ABC Bartending School  40.752921 -73.992616\n",
       "16           Ny Kids Club  40.766279 -73.961508\n",
       "11     Kitchen Rental NYC  40.763024 -73.986198"
      ]
     },
     "execution_count": 308,
     "metadata": {},
     "output_type": "execute_result"
    }
   ],
   "source": [
    "schools = pd.DataFrame(lst)\n",
    "schools.sample(3)"
   ]
  },
  {
   "cell_type": "code",
   "execution_count": 309,
   "metadata": {},
   "outputs": [],
   "source": [
    "def export_NY_schools (df):\n",
    "    return df.to_csv(f\"D:\\\\ironhack\\\\proyectos\\\\GeoSpatialData_proy3\\csv\\\\schools_newyork.csv\")"
   ]
  },
  {
   "cell_type": "code",
   "execution_count": 310,
   "metadata": {},
   "outputs": [],
   "source": [
    "export_NY_schools (schools)"
   ]
  },
  {
   "cell_type": "markdown",
   "metadata": {},
   "source": [
    "### 3.3. Bars."
   ]
  },
  {
   "cell_type": "code",
   "execution_count": 311,
   "metadata": {},
   "outputs": [
    {
     "data": {
      "text/plain": [
       "<Response [200]>"
      ]
     },
     "execution_count": 311,
     "metadata": {},
     "output_type": "execute_result"
    }
   ],
   "source": [
    "url = \"https://api.foursquare.com/v3/places/search\"\n",
    "\n",
    "params = {\n",
    "    \"query\": \"bars\",\n",
    "    \"ll\": \"40.751693,-73.989676\",\n",
    "    \"open_now\": \"true\",\n",
    "    \"sort\":\"DISTANCE\",\n",
    "    \"radius\": 15000,\n",
    "    \"limit\": 20\n",
    "}\n",
    "\n",
    "headers = {\n",
    "    \"Accept\": \"application/json\",\n",
    "    \"Authorization\": token\n",
    "}\n",
    "\n",
    "response = requests.request(\"GET\", url, params=params, headers=headers)\n",
    "\n",
    "response"
   ]
  },
  {
   "cell_type": "code",
   "execution_count": 312,
   "metadata": {},
   "outputs": [],
   "source": [
    "bars = response.json()[\"results\"]"
   ]
  },
  {
   "cell_type": "code",
   "execution_count": 313,
   "metadata": {},
   "outputs": [
    {
     "data": {
      "text/plain": [
       "20"
      ]
     },
     "execution_count": 313,
     "metadata": {},
     "output_type": "execute_result"
    }
   ],
   "source": [
    "len(bars)"
   ]
  },
  {
   "cell_type": "code",
   "execution_count": 315,
   "metadata": {},
   "outputs": [
    {
     "data": {
      "text/plain": [
       "{'name': 'Stout', 'latitude': 40.74987, 'longitude': -73.9897}"
      ]
     },
     "execution_count": 315,
     "metadata": {},
     "output_type": "execute_result"
    }
   ],
   "source": [
    "coord_name (bars[0])"
   ]
  },
  {
   "cell_type": "code",
   "execution_count": 316,
   "metadata": {},
   "outputs": [],
   "source": [
    "lst = []\n",
    "for i in response.json()[\"results\"]:\n",
    "    lst.append(coord_name(i))"
   ]
  },
  {
   "cell_type": "code",
   "execution_count": 317,
   "metadata": {},
   "outputs": [
    {
     "data": {
      "text/html": [
       "<div>\n",
       "<style scoped>\n",
       "    .dataframe tbody tr th:only-of-type {\n",
       "        vertical-align: middle;\n",
       "    }\n",
       "\n",
       "    .dataframe tbody tr th {\n",
       "        vertical-align: top;\n",
       "    }\n",
       "\n",
       "    .dataframe thead th {\n",
       "        text-align: right;\n",
       "    }\n",
       "</style>\n",
       "<table border=\"1\" class=\"dataframe\">\n",
       "  <thead>\n",
       "    <tr style=\"text-align: right;\">\n",
       "      <th></th>\n",
       "      <th>name</th>\n",
       "      <th>latitude</th>\n",
       "      <th>longitude</th>\n",
       "    </tr>\n",
       "  </thead>\n",
       "  <tbody>\n",
       "    <tr>\n",
       "      <th>11</th>\n",
       "      <td>Pottery Barn</td>\n",
       "      <td>40.740036</td>\n",
       "      <td>-73.992240</td>\n",
       "    </tr>\n",
       "    <tr>\n",
       "      <th>19</th>\n",
       "      <td>The Stand</td>\n",
       "      <td>40.735340</td>\n",
       "      <td>-73.988344</td>\n",
       "    </tr>\n",
       "    <tr>\n",
       "      <th>16</th>\n",
       "      <td>Old Town Bar</td>\n",
       "      <td>40.737633</td>\n",
       "      <td>-73.989351</td>\n",
       "    </tr>\n",
       "  </tbody>\n",
       "</table>\n",
       "</div>"
      ],
      "text/plain": [
       "            name   latitude  longitude\n",
       "11  Pottery Barn  40.740036 -73.992240\n",
       "19     The Stand  40.735340 -73.988344\n",
       "16  Old Town Bar  40.737633 -73.989351"
      ]
     },
     "execution_count": 317,
     "metadata": {},
     "output_type": "execute_result"
    }
   ],
   "source": [
    "bars = pd.DataFrame(lst)\n",
    "bars.sample(3)"
   ]
  },
  {
   "cell_type": "code",
   "execution_count": 318,
   "metadata": {},
   "outputs": [],
   "source": [
    "def export_NY_bars (df):\n",
    "    return df.to_csv(f\"D:\\\\ironhack\\\\proyectos\\\\GeoSpatialData_proy3\\csv\\\\bars_newyork.csv\")"
   ]
  },
  {
   "cell_type": "code",
   "execution_count": 319,
   "metadata": {},
   "outputs": [],
   "source": [
    "export_NY_schools (bars)"
   ]
  },
  {
   "cell_type": "code",
   "execution_count": null,
   "metadata": {},
   "outputs": [],
   "source": []
  }
 ],
 "metadata": {
  "kernelspec": {
   "display_name": "Python 3 (ipykernel)",
   "language": "python",
   "name": "python3"
  },
  "language_info": {
   "codemirror_mode": {
    "name": "ipython",
    "version": 3
   },
   "file_extension": ".py",
   "mimetype": "text/x-python",
   "name": "python",
   "nbconvert_exporter": "python",
   "pygments_lexer": "ipython3",
   "version": "3.10.4"
  }
 },
 "nbformat": 4,
 "nbformat_minor": 2
}

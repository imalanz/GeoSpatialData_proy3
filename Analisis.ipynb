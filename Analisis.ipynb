{
 "cells": [
  {
   "cell_type": "markdown",
   "metadata": {},
   "source": [
    "# Analyzing."
   ]
  },
  {
   "cell_type": "markdown",
   "metadata": {},
   "source": [
    "## 1. Location."
   ]
  },
  {
   "cell_type": "code",
   "execution_count": 137,
   "metadata": {},
   "outputs": [],
   "source": [
    "from pymongo import MongoClient\n",
    "import pandas as pd\n",
    "import time\n",
    "import importlib\n",
    "import geopandas as gpd\n",
    "import data.cleaning as clean\n",
    "importlib.reload(clean)\n",
    "import json\n",
    "from cartoframes.viz import Map, Layer, popup_element"
   ]
  },
  {
   "cell_type": "markdown",
   "metadata": {},
   "source": [
    "Todo el proceso para descargar la base de datos Empresas de Mongo."
   ]
  },
  {
   "cell_type": "code",
   "execution_count": 138,
   "metadata": {},
   "outputs": [],
   "source": [
    "client = MongoClient(\"localhost:27017\")"
   ]
  },
  {
   "cell_type": "code",
   "execution_count": 139,
   "metadata": {},
   "outputs": [
    {
     "data": {
      "text/plain": [
       "MongoClient(host=['localhost:27017'], document_class=dict, tz_aware=False, connect=True)"
      ]
     },
     "execution_count": 139,
     "metadata": {},
     "output_type": "execute_result"
    }
   ],
   "source": [
    "client"
   ]
  },
  {
   "cell_type": "code",
   "execution_count": 140,
   "metadata": {},
   "outputs": [
    {
     "data": {
      "text/plain": [
       "['Ironhack', 'admin', 'config', 'local']"
      ]
     },
     "execution_count": 140,
     "metadata": {},
     "output_type": "execute_result"
    }
   ],
   "source": [
    "client.list_database_names()"
   ]
  },
  {
   "cell_type": "code",
   "execution_count": 141,
   "metadata": {},
   "outputs": [],
   "source": [
    "db = client[\"Ironhack\"]"
   ]
  },
  {
   "cell_type": "code",
   "execution_count": 142,
   "metadata": {},
   "outputs": [
    {
     "data": {
      "text/plain": [
       "Database(MongoClient(host=['localhost:27017'], document_class=dict, tz_aware=False, connect=True), 'Ironhack')"
      ]
     },
     "execution_count": 142,
     "metadata": {},
     "output_type": "execute_result"
    }
   ],
   "source": [
    "db"
   ]
  },
  {
   "cell_type": "code",
   "execution_count": 143,
   "metadata": {},
   "outputs": [],
   "source": [
    "c = db.get_collection(\"companies\")"
   ]
  },
  {
   "cell_type": "markdown",
   "metadata": {},
   "source": [
    "Explore the data base to get the information I want for the company."
   ]
  },
  {
   "cell_type": "code",
   "execution_count": 144,
   "metadata": {},
   "outputs": [],
   "source": [
    "# This was to look if the data base from Mongo was well downloaded.\n",
    "# c.find_one()"
   ]
  },
  {
   "cell_type": "code",
   "execution_count": 145,
   "metadata": {},
   "outputs": [],
   "source": [
    "# This was to find with a specific condition of the ategory, and look for what i wanted to work on.\n",
    "# list(c.find({}, {\"category_code\":1}))"
   ]
  },
  {
   "cell_type": "markdown",
   "metadata": {},
   "source": [
    "#### Will choose the music industry for my company.\n",
    "Getting the music buissnes companies and start analizing them."
   ]
  },
  {
   "cell_type": "code",
   "execution_count": 146,
   "metadata": {},
   "outputs": [],
   "source": [
    "# list of all the companies with category of music in all the world.\n",
    "#list(c.find({\"category_code\":\"music\"}, {\"name\":1, \"_id\":0, \"category_code\":1}))"
   ]
  },
  {
   "cell_type": "markdown",
   "metadata": {},
   "source": [
    "Get the companies Ubication COUNTRY."
   ]
  },
  {
   "cell_type": "code",
   "execution_count": 147,
   "metadata": {},
   "outputs": [],
   "source": [
    "def music_countries (category_code, country_code):\n",
    "    condition1 = {\"category_code\":category_code}\n",
    "    projection = {\"name\":1, \"_id\":0, \"offices.country_code\":country_code}\n",
    "    countries = (list(c.find(condition1, \n",
    "               projection)))\n",
    "    \n",
    "    listcountry = [countries[i][\"offices\"][j][\"country_code\"] for i in range(len(countries)) for j in range(len(countries[i][\"offices\"]))]\n",
    "    return listcountry\n",
    "    "
   ]
  },
  {
   "cell_type": "code",
   "execution_count": 148,
   "metadata": {},
   "outputs": [],
   "source": [
    "# list of the countries with the music company industry.\n",
    "lstcountry = music_countries (\"music\", 1)"
   ]
  },
  {
   "cell_type": "code",
   "execution_count": 149,
   "metadata": {},
   "outputs": [],
   "source": [
    "#countries[0]\n",
    "#countries[0][\"offices\"]\n",
    "#countries[0][\"offices\"][0][\"country_code\"]"
   ]
  },
  {
   "cell_type": "code",
   "execution_count": 150,
   "metadata": {},
   "outputs": [],
   "source": [
    "# change it to a dictionary\n",
    "country = {\"country\": lstcountry}"
   ]
  },
  {
   "cell_type": "code",
   "execution_count": 151,
   "metadata": {},
   "outputs": [],
   "source": [
    "# make it a data frame\n",
    "dfcountry = pd.DataFrame(country)"
   ]
  },
  {
   "cell_type": "markdown",
   "metadata": {},
   "source": [
    "We see that for much USA is the place for a music company, I wanted to see if I could go to another country that had some type of competition between the USA, but if the company wants to grow, need to be in the USA."
   ]
  },
  {
   "cell_type": "code",
   "execution_count": 152,
   "metadata": {
    "scrolled": false
   },
   "outputs": [
    {
     "data": {
      "text/plain": [
       "country\n",
       "USA        30\n",
       "GBR         5\n",
       "FRA         4\n",
       "DEU         2\n",
       "BEL         1\n",
       "BRA         1\n",
       "ESP         1\n",
       "ITA         1\n",
       "LUX         1\n",
       "NLD         1\n",
       "dtype: int64"
      ]
     },
     "execution_count": 152,
     "metadata": {},
     "output_type": "execute_result"
    }
   ],
   "source": [
    "dfcountry.value_counts()[:10]"
   ]
  },
  {
   "cell_type": "markdown",
   "metadata": {},
   "source": [
    "hacer otra columna del value count de los paises"
   ]
  },
  {
   "cell_type": "code",
   "execution_count": 153,
   "metadata": {},
   "outputs": [
    {
     "data": {
      "text/html": [
       "<div>\n",
       "<style scoped>\n",
       "    .dataframe tbody tr th:only-of-type {\n",
       "        vertical-align: middle;\n",
       "    }\n",
       "\n",
       "    .dataframe tbody tr th {\n",
       "        vertical-align: top;\n",
       "    }\n",
       "\n",
       "    .dataframe thead th {\n",
       "        text-align: right;\n",
       "    }\n",
       "</style>\n",
       "<table border=\"1\" class=\"dataframe\">\n",
       "  <thead>\n",
       "    <tr style=\"text-align: right;\">\n",
       "      <th></th>\n",
       "      <th>country</th>\n",
       "    </tr>\n",
       "  </thead>\n",
       "  <tbody>\n",
       "    <tr>\n",
       "      <th>2</th>\n",
       "      <td>USA</td>\n",
       "    </tr>\n",
       "    <tr>\n",
       "      <th>16</th>\n",
       "      <td>GBR</td>\n",
       "    </tr>\n",
       "    <tr>\n",
       "      <th>21</th>\n",
       "      <td>FRA</td>\n",
       "    </tr>\n",
       "  </tbody>\n",
       "</table>\n",
       "</div>"
      ],
      "text/plain": [
       "   country\n",
       "2      USA\n",
       "16     GBR\n",
       "21     FRA"
      ]
     },
     "execution_count": 153,
     "metadata": {},
     "output_type": "execute_result"
    }
   ],
   "source": [
    "dfcountry.sample(3)"
   ]
  },
  {
   "cell_type": "markdown",
   "metadata": {},
   "source": [
    " "
   ]
  },
  {
   "cell_type": "markdown",
   "metadata": {},
   "source": [
    "### Searching for the city"
   ]
  },
  {
   "cell_type": "code",
   "execution_count": 154,
   "metadata": {},
   "outputs": [],
   "source": [
    "condition1 = {\"category_code\":\"music\"}\n",
    "condition2 = {\"offices.city\":\"San Diego\"}\n",
    "projection = {\"name\":1, \"_id\":0, \"offices.address1\":1}\n",
    "x = (list(c.find({\"$and\":\n",
    "                [condition1, condition2]},\n",
    "                   projection)))\n",
    "\n",
    "  "
   ]
  },
  {
   "cell_type": "code",
   "execution_count": 155,
   "metadata": {},
   "outputs": [
    {
     "data": {
      "text/plain": [
       "[{'name': 'Slacker',\n",
       "  'offices': [{'address1': '16935 W. Bernardo Dr. Suite 101'}]},\n",
       " {'name': 'Bandsintown',\n",
       "  'offices': [{'address1': '800 W Ivy Street, Unit C'},\n",
       "   {'address1': '215 Lexington Ave'}]}]"
      ]
     },
     "execution_count": 155,
     "metadata": {},
     "output_type": "execute_result"
    }
   ],
   "source": [
    "x"
   ]
  },
  {
   "cell_type": "code",
   "execution_count": 156,
   "metadata": {},
   "outputs": [],
   "source": [
    "def music_cities (category_code, cities):\n",
    "    condition1 = {\"category_code\":category_code}\n",
    "    projection = {\"name\":1, \"_id\":0, \"offices.city\":cities}\n",
    "    city = (list(c.find(condition1, \n",
    "               projection)))\n",
    "    \n",
    "    lstcity = [city[i][\"offices\"][j][\"city\"] for i in range(len(city)) for j in range(len(city[i][\"offices\"]))]\n",
    "    return lstcity"
   ]
  },
  {
   "cell_type": "code",
   "execution_count": 157,
   "metadata": {},
   "outputs": [],
   "source": [
    "lstcity = music_cities (\"music\", 1)"
   ]
  },
  {
   "cell_type": "markdown",
   "metadata": {},
   "source": [
    "Merge the 2 columns of country and city and new count column"
   ]
  },
  {
   "cell_type": "code",
   "execution_count": 158,
   "metadata": {},
   "outputs": [],
   "source": [
    "def combine_lists (lst1, lst2):\n",
    "    # change the 2 lists into a dictionary\n",
    "    location = {\"cities\": lst1,\n",
    "            \"country\": lst2} \n",
    "    # create them a Data Frame.\n",
    "    location = pd.DataFrame(location)\n",
    "    # create a new column with the value_counts of cities.\n",
    "    location[\"count\"] = location.groupby([\"cities\"])[\"country\"].transform(\"count\")\n",
    "    return location"
   ]
  },
  {
   "cell_type": "code",
   "execution_count": 159,
   "metadata": {},
   "outputs": [],
   "source": [
    "location_df = combine_lists (lstcity, lstcountry)"
   ]
  },
  {
   "cell_type": "code",
   "execution_count": 160,
   "metadata": {},
   "outputs": [
    {
     "data": {
      "text/html": [
       "<div>\n",
       "<style scoped>\n",
       "    .dataframe tbody tr th:only-of-type {\n",
       "        vertical-align: middle;\n",
       "    }\n",
       "\n",
       "    .dataframe tbody tr th {\n",
       "        vertical-align: top;\n",
       "    }\n",
       "\n",
       "    .dataframe thead th {\n",
       "        text-align: right;\n",
       "    }\n",
       "</style>\n",
       "<table border=\"1\" class=\"dataframe\">\n",
       "  <thead>\n",
       "    <tr style=\"text-align: right;\">\n",
       "      <th></th>\n",
       "      <th>cities</th>\n",
       "      <th>country</th>\n",
       "      <th>count</th>\n",
       "    </tr>\n",
       "  </thead>\n",
       "  <tbody>\n",
       "    <tr>\n",
       "      <th>29</th>\n",
       "      <td>Framingham</td>\n",
       "      <td>USA</td>\n",
       "      <td>1</td>\n",
       "    </tr>\n",
       "    <tr>\n",
       "      <th>16</th>\n",
       "      <td>London</td>\n",
       "      <td>GBR</td>\n",
       "      <td>4</td>\n",
       "    </tr>\n",
       "    <tr>\n",
       "      <th>27</th>\n",
       "      <td>San Francisco</td>\n",
       "      <td>USA</td>\n",
       "      <td>9</td>\n",
       "    </tr>\n",
       "  </tbody>\n",
       "</table>\n",
       "</div>"
      ],
      "text/plain": [
       "           cities country  count\n",
       "29     Framingham     USA      1\n",
       "16         London     GBR      4\n",
       "27  San Francisco     USA      9"
      ]
     },
     "execution_count": 160,
     "metadata": {},
     "output_type": "execute_result"
    }
   ],
   "source": [
    "location_df.sample(3)"
   ]
  },
  {
   "cell_type": "markdown",
   "metadata": {},
   "source": [
    "Will do a drop duplicated and drop na "
   ]
  },
  {
   "cell_type": "code",
   "execution_count": 161,
   "metadata": {},
   "outputs": [],
   "source": [
    "def clean_df_citycountry (df):\n",
    "    x = df.combine_first(df).reset_index().reindex(df.columns, axis=1).drop_duplicates()\n",
    "    x.dropna(how=\"any\", inplace=True)\n",
    "    return x"
   ]
  },
  {
   "cell_type": "code",
   "execution_count": 162,
   "metadata": {},
   "outputs": [
    {
     "data": {
      "text/html": [
       "<div>\n",
       "<style scoped>\n",
       "    .dataframe tbody tr th:only-of-type {\n",
       "        vertical-align: middle;\n",
       "    }\n",
       "\n",
       "    .dataframe tbody tr th {\n",
       "        vertical-align: top;\n",
       "    }\n",
       "\n",
       "    .dataframe thead th {\n",
       "        text-align: right;\n",
       "    }\n",
       "</style>\n",
       "<table border=\"1\" class=\"dataframe\">\n",
       "  <thead>\n",
       "    <tr style=\"text-align: right;\">\n",
       "      <th></th>\n",
       "      <th>cities</th>\n",
       "      <th>country</th>\n",
       "      <th>count</th>\n",
       "    </tr>\n",
       "  </thead>\n",
       "  <tbody>\n",
       "    <tr>\n",
       "      <th>0</th>\n",
       "      <td>San Diego</td>\n",
       "      <td>USA</td>\n",
       "      <td>2</td>\n",
       "    </tr>\n",
       "    <tr>\n",
       "      <th>32</th>\n",
       "      <td>Seattle</td>\n",
       "      <td>USA</td>\n",
       "      <td>1</td>\n",
       "    </tr>\n",
       "    <tr>\n",
       "      <th>29</th>\n",
       "      <td>Framingham</td>\n",
       "      <td>USA</td>\n",
       "      <td>1</td>\n",
       "    </tr>\n",
       "  </tbody>\n",
       "</table>\n",
       "</div>"
      ],
      "text/plain": [
       "        cities country  count\n",
       "0    San Diego     USA      2\n",
       "32     Seattle     USA      1\n",
       "29  Framingham     USA      1"
      ]
     },
     "execution_count": 162,
     "metadata": {},
     "output_type": "execute_result"
    }
   ],
   "source": [
    "location_clean = clean_df_citycountry (location_df)\n",
    "location_clean.sample(3)"
   ]
  },
  {
   "cell_type": "markdown",
   "metadata": {},
   "source": [
    "Export the data frame of location into a CSV file."
   ]
  },
  {
   "cell_type": "code",
   "execution_count": 163,
   "metadata": {},
   "outputs": [],
   "source": [
    "def export_location (df):\n",
    "    return df.to_csv(f\"D:\\\\ironhack\\\\proyectos\\\\GeoSpatialData_proy3\\csv\\\\location_clean.csv\")\n",
    "    "
   ]
  },
  {
   "cell_type": "code",
   "execution_count": 164,
   "metadata": {},
   "outputs": [],
   "source": [
    "export_location (location_clean)"
   ]
  },
  {
   "cell_type": "markdown",
   "metadata": {},
   "source": [
    "## 2. Startup environment."
   ]
  },
  {
   "cell_type": "code",
   "execution_count": 165,
   "metadata": {},
   "outputs": [],
   "source": [
    "def startups_cooord (city, amount):\n",
    "    # Conditions for city and amount of the company.\n",
    "    condition1 = {\"offices.city\":city}\n",
    "    condition2 = {\"acquisitions.price_amount\":{\"$gte\":amount}}\n",
    "    projection = {\"name\":1, \"_id\":0, \"category_code\":1, \"offices.latitude\":1, \"offices.longitude\":1}\n",
    "    x = (list(c.find({\"$and\":\n",
    "                             [condition1, condition2]},\n",
    "                   projection)))\n",
    "    return x"
   ]
  },
  {
   "cell_type": "code",
   "execution_count": 166,
   "metadata": {},
   "outputs": [
    {
     "data": {
      "text/plain": [
       "40"
      ]
     },
     "execution_count": 166,
     "metadata": {},
     "output_type": "execute_result"
    }
   ],
   "source": [
    "len(startups)"
   ]
  },
  {
   "cell_type": "code",
   "execution_count": 167,
   "metadata": {},
   "outputs": [
    {
     "data": {
      "text/plain": [
       "[{'name': 'Facebook',\n",
       "  'category_code': 'social',\n",
       "  'offices': [{'latitude': 37.41605, 'longitude': -122.151801},\n",
       "   {'latitude': 53.344104, 'longitude': -6.267494},\n",
       "   {'latitude': 40.7557162, 'longitude': -73.9792469}]},\n",
       " {'name': 'Viacom',\n",
       "  'category_code': 'web',\n",
       "  'offices': [{'latitude': 40.757725, 'longitude': -73.986011}]},\n",
       " {'name': 'Google',\n",
       "  'category_code': 'search',\n",
       "  'offices': [{'latitude': 37.421972, 'longitude': -122.084143},\n",
       "   {'latitude': 42.280988, 'longitude': -83.748882},\n",
       "   {'latitude': 33.781466, 'longitude': -84.387519},\n",
       "   {'latitude': 30.351416, 'longitude': -97.751382},\n",
       "   {'latitude': 40.021416, 'longitude': -105.260931},\n",
       "   {'latitude': 42.36305, 'longitude': -71.087478},\n",
       "   {'latitude': 41.889474, 'longitude': -87.628912},\n",
       "   {'latitude': 32.981465, 'longitude': -97.018196},\n",
       "   {'latitude': 32.809161, 'longitude': -96.807693},\n",
       "   {'latitude': 39.62919, 'longitude': -104.898419},\n",
       "   {'latitude': 42.547807, 'longitude': -83.215498},\n",
       "   {'latitude': 33.658331, 'longitude': -117.861817},\n",
       "   {'latitude': None, 'longitude': None},\n",
       "   {'latitude': 40.74222, 'longitude': -74.004489},\n",
       "   {'latitude': 33.411898, 'longitude': -111.926263},\n",
       "   {'latitude': 40.444528, 'longitude': -79.946269},\n",
       "   {'latitude': 37.789803, 'longitude': -122.389757},\n",
       "   {'latitude': 34.019282, 'longitude': -118.494288},\n",
       "   {'latitude': 47.675326, 'longitude': -122.351397},\n",
       "   {'latitude': 47.649701, 'longitude': -122.350592},\n",
       "   {'latitude': 38.901113, 'longitude': -77.027101},\n",
       "   {'latitude': -37.879234, 'longitude': 145.073608},\n",
       "   {'latitude': -34.822723, 'longitude': 138.612396},\n",
       "   {'latitude': None, 'longitude': None},\n",
       "   {'latitude': None, 'longitude': None},\n",
       "   {'latitude': None, 'longitude': None},\n",
       "   {'latitude': None, 'longitude': None},\n",
       "   {'latitude': None, 'longitude': None},\n",
       "   {'latitude': None, 'longitude': None},\n",
       "   {'latitude': 28.86999, 'longitude': 77.122261},\n",
       "   {'latitude': None, 'longitude': None},\n",
       "   {'latitude': None, 'longitude': None},\n",
       "   {'latitude': None, 'longitude': None},\n",
       "   {'latitude': None, 'longitude': None},\n",
       "   {'latitude': None, 'longitude': None},\n",
       "   {'latitude': None, 'longitude': None},\n",
       "   {'latitude': None, 'longitude': None},\n",
       "   {'latitude': 56.171882, 'longitude': 10.187799},\n",
       "   {'latitude': None, 'longitude': None},\n",
       "   {'latitude': None, 'longitude': None},\n",
       "   {'latitude': 48.869606, 'longitude': 2.332749},\n",
       "   {'latitude': 53.554052, 'longitude': 9.985266},\n",
       "   {'latitude': 53.339914, 'longitude': -6.234424},\n",
       "   {'latitude': 45.46381, 'longitude': 9.195978},\n",
       "   {'latitude': 52.337495, 'longitude': 4.871464},\n",
       "   {'latitude': 59.915848, 'longitude': 10.741047},\n",
       "   {'latitude': 63.435324, 'longitude': 10.412428},\n",
       "   {'latitude': 50.063281, 'longitude': 19.929806},\n",
       "   {'latitude': 51.116574, 'longitude': 17.041942},\n",
       "   {'latitude': None, 'longitude': None},\n",
       "   {'latitude': None, 'longitude': None},\n",
       "   {'latitude': None, 'longitude': None},\n",
       "   {'latitude': 65.617491, 'longitude': 22.126255},\n",
       "   {'latitude': 59.332344, 'longitude': 18.060162},\n",
       "   {'latitude': 47.36554, 'longitude': 8.524864},\n",
       "   {'latitude': None, 'longitude': None},\n",
       "   {'latitude': 53.473606, 'longitude': -2.250166},\n",
       "   {'latitude': 45.498588, 'longitude': -73.567044},\n",
       "   {'latitude': None, 'longitude': None},\n",
       "   {'latitude': 43.474704, 'longitude': -80.546381},\n",
       "   {'latitude': None, 'longitude': None},\n",
       "   {'latitude': -23.590463, 'longitude': -46.681494},\n",
       "   {'latitude': 19.507519, 'longitude': -99.030156},\n",
       "   {'latitude': None, 'longitude': None},\n",
       "   {'latitude': None, 'longitude': None},\n",
       "   {'latitude': None, 'longitude': None},\n",
       "   {'latitude': None, 'longitude': None}]},\n",
       " {'name': 'Brightcove',\n",
       "  'category_code': 'enterprise',\n",
       "  'offices': [{'latitude': 42.362993, 'longitude': -71.086596},\n",
       "   {'latitude': None, 'longitude': None},\n",
       "   {'latitude': None, 'longitude': None},\n",
       "   {'latitude': None, 'longitude': None},\n",
       "   {'latitude': None, 'longitude': None},\n",
       "   {'latitude': None, 'longitude': None},\n",
       "   {'latitude': None, 'longitude': None}]},\n",
       " {'name': 'IAC',\n",
       "  'category_code': 'news',\n",
       "  'offices': [{'latitude': 40.745172, 'longitude': -74.007646}]},\n",
       " {'name': 'AOL',\n",
       "  'category_code': 'web',\n",
       "  'offices': [{'latitude': 40.7311317, 'longitude': -73.9919311}]},\n",
       " {'name': 'KIT digital',\n",
       "  'category_code': 'enterprise',\n",
       "  'offices': [{'latitude': 40.751816, 'longitude': -73.971655},\n",
       "   {'latitude': None, 'longitude': None},\n",
       "   {'latitude': None, 'longitude': None},\n",
       "   {'latitude': None, 'longitude': None},\n",
       "   {'latitude': 59.3369746, 'longitude': 18.0580765},\n",
       "   {'latitude': None, 'longitude': None},\n",
       "   {'latitude': None, 'longitude': None},\n",
       "   {'latitude': None, 'longitude': None},\n",
       "   {'latitude': 43.6587599, 'longitude': -79.5983626},\n",
       "   {'latitude': None, 'longitude': None}]},\n",
       " {'name': 'Nielsen',\n",
       "  'category_code': 'web',\n",
       "  'offices': [{'latitude': 40.731118, 'longitude': -73.991933}]},\n",
       " {'name': 'MIVA',\n",
       "  'category_code': 'advertising',\n",
       "  'offices': [{'latitude': 40.733276, 'longitude': -73.9932793}]},\n",
       " {'name': 'Adknowledge',\n",
       "  'category_code': 'advertising',\n",
       "  'offices': [{'latitude': 39.044694, 'longitude': -94.597896},\n",
       "   {'latitude': 40.748901, 'longitude': -73.992463},\n",
       "   {'latitude': 37.78866, 'longitude': -122.401406},\n",
       "   {'latitude': 26.580095, 'longitude': -81.879069},\n",
       "   {'latitude': 43.6474554, 'longitude': -79.3953743},\n",
       "   {'latitude': 51.5114403, 'longitude': -0.1229212},\n",
       "   {'latitude': 48.1635092, 'longitude': 11.5582609},\n",
       "   {'latitude': 48.8506065, 'longitude': 2.3797825},\n",
       "   {'latitude': 31.222622, 'longitude': 121.4770384}]},\n",
       " {'name': 'eMusic',\n",
       "  'category_code': 'games_video',\n",
       "  'offices': [{'latitude': None, 'longitude': None}]},\n",
       " {'name': 'TheStreet',\n",
       "  'category_code': 'finance',\n",
       "  'offices': [{'latitude': 40.707645, 'longitude': -74.010816}]},\n",
       " {'name': 'Monster',\n",
       "  'category_code': 'search',\n",
       "  'offices': [{'latitude': 42.42517, 'longitude': -71.45677}]},\n",
       " {'name': 'XO Group',\n",
       "  'category_code': 'web',\n",
       "  'offices': [{'latitude': 40.720824, 'longitude': -74.00007}]},\n",
       " {'name': 'Comverse Technology',\n",
       "  'category_code': 'software',\n",
       "  'offices': [{'latitude': 36.162612, 'longitude': -106.53529}]},\n",
       " {'name': 'Reuters',\n",
       "  'category_code': None,\n",
       "  'offices': [{'latitude': 40.757929, 'longitude': -73.985506}]},\n",
       " {'name': 'MTV Networks',\n",
       "  'category_code': 'advertising',\n",
       "  'offices': [{'latitude': 40.757725, 'longitude': -73.986011}]},\n",
       " {'name': 'Adconion Media Group',\n",
       "  'category_code': 'advertising',\n",
       "  'offices': [{'latitude': None, 'longitude': None},\n",
       "   {'latitude': None, 'longitude': None},\n",
       "   {'latitude': None, 'longitude': None}]},\n",
       " {'name': 'WebMD',\n",
       "  'category_code': 'web',\n",
       "  'offices': [{'latitude': 40.7410886, 'longitude': -74.0015261}]},\n",
       " {'name': 'Advent Software',\n",
       "  'category_code': 'software',\n",
       "  'offices': [{'latitude': 37.771706, 'longitude': -122.402683},\n",
       "   {'latitude': None, 'longitude': None},\n",
       "   {'latitude': None, 'longitude': None},\n",
       "   {'latitude': None, 'longitude': None},\n",
       "   {'latitude': None, 'longitude': None}]},\n",
       " {'name': 'LivePerson',\n",
       "  'category_code': 'software',\n",
       "  'offices': [{'latitude': 40.751969, 'longitude': -73.99031},\n",
       "   {'latitude': 33.8656817, 'longitude': -84.4709443},\n",
       "   {'latitude': 51.4238637, 'longitude': -0.9876997},\n",
       "   {'latitude': None, 'longitude': None}]},\n",
       " {'name': 'Bloomberg',\n",
       "  'category_code': 'software',\n",
       "  'offices': [{'latitude': None, 'longitude': None}]},\n",
       " {'name': 'SnagFilms',\n",
       "  'category_code': 'social',\n",
       "  'offices': [{'latitude': None, 'longitude': None},\n",
       "   {'latitude': 38.906867, 'longitude': -77.042322}]},\n",
       " {'name': 'Thomson Reuters',\n",
       "  'category_code': 'public_relations',\n",
       "  'offices': [{'latitude': 40.7564318, 'longitude': -73.9871847}]},\n",
       " {'name': 'WPP',\n",
       "  'category_code': 'public_relations',\n",
       "  'offices': [{'latitude': 40.751513, 'longitude': -73.9779465},\n",
       "   {'latitude': None, 'longitude': None}]},\n",
       " {'name': 'Thomson Reuters',\n",
       "  'category_code': 'public_relations',\n",
       "  'offices': [{'latitude': 40.7564318, 'longitude': -73.9871847}]},\n",
       " {'name': 'WPP',\n",
       "  'category_code': 'public_relations',\n",
       "  'offices': [{'latitude': 40.751513, 'longitude': -73.9779465},\n",
       "   {'latitude': None, 'longitude': None}]},\n",
       " {'name': 'F5 Networks',\n",
       "  'category_code': 'other',\n",
       "  'offices': [{'latitude': 47.622263, 'longitude': -122.363276},\n",
       "   {'latitude': 47.667105, 'longitude': -117.111222},\n",
       "   {'latitude': 40.75304, 'longitude': -73.998135},\n",
       "   {'latitude': 37.381844, 'longitude': -121.924439},\n",
       "   {'latitude': 42.619502, 'longitude': -71.322888},\n",
       "   {'latitude': -23.620738, 'longitude': -46.698267}]},\n",
       " {'name': 'Opt-Intelligence',\n",
       "  'category_code': 'advertising',\n",
       "  'offices': [{'latitude': None, 'longitude': None}]},\n",
       " {'name': 'Centro',\n",
       "  'category_code': 'advertising',\n",
       "  'offices': [{'latitude': 41.889853, 'longitude': -87.6355433},\n",
       "   {'latitude': 40.7408753, 'longitude': -73.9920174},\n",
       "   {'latitude': 32.7819239, 'longitude': -96.790514},\n",
       "   {'latitude': 34.0312388, 'longitude': -118.4735062}]},\n",
       " {'name': 'Sapient',\n",
       "  'category_code': 'enterprise',\n",
       "  'offices': [{'latitude': None, 'longitude': None},\n",
       "   {'latitude': 40.707872, 'longitude': -74.004731},\n",
       "   {'latitude': 33.8540338, 'longitude': -84.3584803},\n",
       "   {'latitude': 41.881065, 'longitude': -87.62903},\n",
       "   {'latitude': 42.5469062, 'longitude': -83.2144938},\n",
       "   {'latitude': 25.790926, 'longitude': -80.1343277},\n",
       "   {'latitude': 37.79088, 'longitude': -122.392521},\n",
       "   {'latitude': 38.8911989, 'longitude': -77.0837482}]},\n",
       " {'name': 'Pfizer',\n",
       "  'category_code': 'biotech',\n",
       "  'offices': [{'latitude': None, 'longitude': None}]},\n",
       " {'name': 'Bristol-Myers Squibb',\n",
       "  'category_code': 'biotech',\n",
       "  'offices': [{'latitude': 40.757716, 'longitude': -73.972321}]},\n",
       " {'name': 'Internap',\n",
       "  'category_code': 'web',\n",
       "  'offices': [{'latitude': None, 'longitude': None},\n",
       "   {'latitude': None, 'longitude': None},\n",
       "   {'latitude': None, 'longitude': None},\n",
       "   {'latitude': None, 'longitude': None},\n",
       "   {'latitude': None, 'longitude': None},\n",
       "   {'latitude': None, 'longitude': None},\n",
       "   {'latitude': None, 'longitude': None},\n",
       "   {'latitude': None, 'longitude': None},\n",
       "   {'latitude': None, 'longitude': None},\n",
       "   {'latitude': None, 'longitude': None},\n",
       "   {'latitude': None, 'longitude': None},\n",
       "   {'latitude': None, 'longitude': None},\n",
       "   {'latitude': None, 'longitude': None},\n",
       "   {'latitude': None, 'longitude': None},\n",
       "   {'latitude': None, 'longitude': None}]},\n",
       " {'name': 'YouGov',\n",
       "  'category_code': 'consulting',\n",
       "  'offices': [{'latitude': 37.445111, 'longitude': -122.160779},\n",
       "   {'latitude': None, 'longitude': None}]},\n",
       " {'name': 'WebMediaBrands',\n",
       "  'category_code': 'web',\n",
       "  'offices': [{'latitude': None, 'longitude': None}]},\n",
       " {'name': 'Velti',\n",
       "  'category_code': 'mobile',\n",
       "  'offices': [{'latitude': None, 'longitude': None},\n",
       "   {'latitude': None, 'longitude': None},\n",
       "   {'latitude': None, 'longitude': None},\n",
       "   {'latitude': None, 'longitude': None},\n",
       "   {'latitude': None, 'longitude': None},\n",
       "   {'latitude': None, 'longitude': None},\n",
       "   {'latitude': None, 'longitude': None},\n",
       "   {'latitude': None, 'longitude': None},\n",
       "   {'latitude': None, 'longitude': None},\n",
       "   {'latitude': None, 'longitude': None},\n",
       "   {'latitude': None, 'longitude': None},\n",
       "   {'latitude': None, 'longitude': None},\n",
       "   {'latitude': None, 'longitude': None},\n",
       "   {'latitude': None, 'longitude': None},\n",
       "   {'latitude': None, 'longitude': None}]},\n",
       " {'name': 'Dice Holdings',\n",
       "  'category_code': 'web',\n",
       "  'offices': [{'latitude': 40.74727, 'longitude': -73.9800645}]},\n",
       " {'name': 'Backstage',\n",
       "  'category_code': 'web',\n",
       "  'offices': [{'latitude': None, 'longitude': None}]},\n",
       " {'name': 'smartFOCUS',\n",
       "  'category_code': 'software',\n",
       "  'offices': [{'latitude': 51.4525116, 'longitude': -2.5909744},\n",
       "   {'latitude': None, 'longitude': None},\n",
       "   {'latitude': None, 'longitude': None},\n",
       "   {'latitude': None, 'longitude': None},\n",
       "   {'latitude': None, 'longitude': None},\n",
       "   {'latitude': None, 'longitude': None}]}]"
      ]
     },
     "execution_count": 167,
     "metadata": {},
     "output_type": "execute_result"
    }
   ],
   "source": [
    "startups = startupsdf (\"New York\", 1000000)\n",
    "startups"
   ]
  },
  {
   "cell_type": "code",
   "execution_count": 168,
   "metadata": {},
   "outputs": [],
   "source": [
    "def lat_startup (dict):\n",
    "    x = []\n",
    "    for i in range(len(startups)):\n",
    "        x.append(startups[i][\"offices\"][0][\"latitude\"])\n",
    "    return x"
   ]
  },
  {
   "cell_type": "code",
   "execution_count": 169,
   "metadata": {},
   "outputs": [],
   "source": [
    "def long_startup (dict):\n",
    "    y = []\n",
    "    for i in range(len(startups)):\n",
    "        y.append(startups[i][\"offices\"][0][\"longitude\"])\n",
    "    return y"
   ]
  },
  {
   "cell_type": "code",
   "execution_count": 170,
   "metadata": {},
   "outputs": [],
   "source": [
    "startups_lat = lat_startup (startups)"
   ]
  },
  {
   "cell_type": "code",
   "execution_count": 171,
   "metadata": {},
   "outputs": [],
   "source": [
    "startups_long = long_startup (startups)"
   ]
  },
  {
   "cell_type": "code",
   "execution_count": 172,
   "metadata": {},
   "outputs": [],
   "source": [
    "# Filter again the startups but without the latitud and logitude and turn it into a data frame.\n",
    "def startups_name (city, amount):\n",
    "    # Conditions for city and amount of the company.\n",
    "    condition1 = {\"offices.city\":city}\n",
    "    condition2 = {\"acquisitions.price_amount\":{\"$gte\":amount}}\n",
    "    projection = {\"name\":1, \"_id\":0, \"category_code\":1}\n",
    "    x = (list(c.find({\"$and\":\n",
    "                             [condition1, condition2]},\n",
    "                   projection)))\n",
    "    # give a Data frame with conditions and address.\n",
    "    df = pd.DataFrame(x)\n",
    "    return df    "
   ]
  },
  {
   "cell_type": "code",
   "execution_count": 173,
   "metadata": {},
   "outputs": [
    {
     "data": {
      "text/html": [
       "<div>\n",
       "<style scoped>\n",
       "    .dataframe tbody tr th:only-of-type {\n",
       "        vertical-align: middle;\n",
       "    }\n",
       "\n",
       "    .dataframe tbody tr th {\n",
       "        vertical-align: top;\n",
       "    }\n",
       "\n",
       "    .dataframe thead th {\n",
       "        text-align: right;\n",
       "    }\n",
       "</style>\n",
       "<table border=\"1\" class=\"dataframe\">\n",
       "  <thead>\n",
       "    <tr style=\"text-align: right;\">\n",
       "      <th></th>\n",
       "      <th>name</th>\n",
       "      <th>category_code</th>\n",
       "    </tr>\n",
       "  </thead>\n",
       "  <tbody>\n",
       "    <tr>\n",
       "      <th>31</th>\n",
       "      <td>Pfizer</td>\n",
       "      <td>biotech</td>\n",
       "    </tr>\n",
       "    <tr>\n",
       "      <th>33</th>\n",
       "      <td>Internap</td>\n",
       "      <td>web</td>\n",
       "    </tr>\n",
       "    <tr>\n",
       "      <th>16</th>\n",
       "      <td>MTV Networks</td>\n",
       "      <td>advertising</td>\n",
       "    </tr>\n",
       "  </tbody>\n",
       "</table>\n",
       "</div>"
      ],
      "text/plain": [
       "            name category_code\n",
       "31        Pfizer       biotech\n",
       "33      Internap           web\n",
       "16  MTV Networks   advertising"
      ]
     },
     "execution_count": 173,
     "metadata": {},
     "output_type": "execute_result"
    }
   ],
   "source": [
    "start_names = startups_name (\"New York\", 1000000)\n",
    "start_names.sample(3)"
   ]
  },
  {
   "cell_type": "markdown",
   "metadata": {},
   "source": [
    "Make a dictionary with all values to create a data base."
   ]
  },
  {
   "cell_type": "code",
   "execution_count": 174,
   "metadata": {},
   "outputs": [],
   "source": [
    "# dictionary for latitud and long, to create df.\n",
    "def coord_df (lats, longs):\n",
    "    lon_lat = {\"latitud\": lats,\n",
    "              \"longitude\": longs}\n",
    "    df = pd.DataFrame(lon_lat)\n",
    "    return df"
   ]
  },
  {
   "cell_type": "code",
   "execution_count": 175,
   "metadata": {},
   "outputs": [],
   "source": [
    "df = coord_df (startups_lat, startups_long)"
   ]
  },
  {
   "cell_type": "code",
   "execution_count": 176,
   "metadata": {},
   "outputs": [
    {
     "data": {
      "text/html": [
       "<div>\n",
       "<style scoped>\n",
       "    .dataframe tbody tr th:only-of-type {\n",
       "        vertical-align: middle;\n",
       "    }\n",
       "\n",
       "    .dataframe tbody tr th {\n",
       "        vertical-align: top;\n",
       "    }\n",
       "\n",
       "    .dataframe thead th {\n",
       "        text-align: right;\n",
       "    }\n",
       "</style>\n",
       "<table border=\"1\" class=\"dataframe\">\n",
       "  <thead>\n",
       "    <tr style=\"text-align: right;\">\n",
       "      <th></th>\n",
       "      <th>latitud</th>\n",
       "      <th>longitude</th>\n",
       "    </tr>\n",
       "  </thead>\n",
       "  <tbody>\n",
       "    <tr>\n",
       "      <th>0</th>\n",
       "      <td>37.416050</td>\n",
       "      <td>-122.151801</td>\n",
       "    </tr>\n",
       "    <tr>\n",
       "      <th>1</th>\n",
       "      <td>40.757725</td>\n",
       "      <td>-73.986011</td>\n",
       "    </tr>\n",
       "    <tr>\n",
       "      <th>2</th>\n",
       "      <td>37.421972</td>\n",
       "      <td>-122.084143</td>\n",
       "    </tr>\n",
       "    <tr>\n",
       "      <th>3</th>\n",
       "      <td>42.362993</td>\n",
       "      <td>-71.086596</td>\n",
       "    </tr>\n",
       "    <tr>\n",
       "      <th>4</th>\n",
       "      <td>40.745172</td>\n",
       "      <td>-74.007646</td>\n",
       "    </tr>\n",
       "    <tr>\n",
       "      <th>5</th>\n",
       "      <td>40.731132</td>\n",
       "      <td>-73.991931</td>\n",
       "    </tr>\n",
       "    <tr>\n",
       "      <th>6</th>\n",
       "      <td>40.751816</td>\n",
       "      <td>-73.971655</td>\n",
       "    </tr>\n",
       "    <tr>\n",
       "      <th>7</th>\n",
       "      <td>40.731118</td>\n",
       "      <td>-73.991933</td>\n",
       "    </tr>\n",
       "    <tr>\n",
       "      <th>8</th>\n",
       "      <td>40.733276</td>\n",
       "      <td>-73.993279</td>\n",
       "    </tr>\n",
       "    <tr>\n",
       "      <th>9</th>\n",
       "      <td>39.044694</td>\n",
       "      <td>-94.597896</td>\n",
       "    </tr>\n",
       "    <tr>\n",
       "      <th>10</th>\n",
       "      <td>NaN</td>\n",
       "      <td>NaN</td>\n",
       "    </tr>\n",
       "    <tr>\n",
       "      <th>11</th>\n",
       "      <td>40.707645</td>\n",
       "      <td>-74.010816</td>\n",
       "    </tr>\n",
       "    <tr>\n",
       "      <th>12</th>\n",
       "      <td>42.425170</td>\n",
       "      <td>-71.456770</td>\n",
       "    </tr>\n",
       "    <tr>\n",
       "      <th>13</th>\n",
       "      <td>40.720824</td>\n",
       "      <td>-74.000070</td>\n",
       "    </tr>\n",
       "    <tr>\n",
       "      <th>14</th>\n",
       "      <td>36.162612</td>\n",
       "      <td>-106.535290</td>\n",
       "    </tr>\n",
       "    <tr>\n",
       "      <th>15</th>\n",
       "      <td>40.757929</td>\n",
       "      <td>-73.985506</td>\n",
       "    </tr>\n",
       "    <tr>\n",
       "      <th>16</th>\n",
       "      <td>40.757725</td>\n",
       "      <td>-73.986011</td>\n",
       "    </tr>\n",
       "    <tr>\n",
       "      <th>17</th>\n",
       "      <td>NaN</td>\n",
       "      <td>NaN</td>\n",
       "    </tr>\n",
       "    <tr>\n",
       "      <th>18</th>\n",
       "      <td>40.741089</td>\n",
       "      <td>-74.001526</td>\n",
       "    </tr>\n",
       "    <tr>\n",
       "      <th>19</th>\n",
       "      <td>37.771706</td>\n",
       "      <td>-122.402683</td>\n",
       "    </tr>\n",
       "    <tr>\n",
       "      <th>20</th>\n",
       "      <td>40.751969</td>\n",
       "      <td>-73.990310</td>\n",
       "    </tr>\n",
       "    <tr>\n",
       "      <th>21</th>\n",
       "      <td>NaN</td>\n",
       "      <td>NaN</td>\n",
       "    </tr>\n",
       "    <tr>\n",
       "      <th>22</th>\n",
       "      <td>NaN</td>\n",
       "      <td>NaN</td>\n",
       "    </tr>\n",
       "    <tr>\n",
       "      <th>23</th>\n",
       "      <td>40.756432</td>\n",
       "      <td>-73.987185</td>\n",
       "    </tr>\n",
       "    <tr>\n",
       "      <th>24</th>\n",
       "      <td>40.751513</td>\n",
       "      <td>-73.977947</td>\n",
       "    </tr>\n",
       "    <tr>\n",
       "      <th>25</th>\n",
       "      <td>40.756432</td>\n",
       "      <td>-73.987185</td>\n",
       "    </tr>\n",
       "    <tr>\n",
       "      <th>26</th>\n",
       "      <td>40.751513</td>\n",
       "      <td>-73.977947</td>\n",
       "    </tr>\n",
       "    <tr>\n",
       "      <th>27</th>\n",
       "      <td>47.622263</td>\n",
       "      <td>-122.363276</td>\n",
       "    </tr>\n",
       "    <tr>\n",
       "      <th>28</th>\n",
       "      <td>NaN</td>\n",
       "      <td>NaN</td>\n",
       "    </tr>\n",
       "    <tr>\n",
       "      <th>29</th>\n",
       "      <td>41.889853</td>\n",
       "      <td>-87.635543</td>\n",
       "    </tr>\n",
       "    <tr>\n",
       "      <th>30</th>\n",
       "      <td>NaN</td>\n",
       "      <td>NaN</td>\n",
       "    </tr>\n",
       "    <tr>\n",
       "      <th>31</th>\n",
       "      <td>NaN</td>\n",
       "      <td>NaN</td>\n",
       "    </tr>\n",
       "    <tr>\n",
       "      <th>32</th>\n",
       "      <td>40.757716</td>\n",
       "      <td>-73.972321</td>\n",
       "    </tr>\n",
       "    <tr>\n",
       "      <th>33</th>\n",
       "      <td>NaN</td>\n",
       "      <td>NaN</td>\n",
       "    </tr>\n",
       "    <tr>\n",
       "      <th>34</th>\n",
       "      <td>37.445111</td>\n",
       "      <td>-122.160779</td>\n",
       "    </tr>\n",
       "    <tr>\n",
       "      <th>35</th>\n",
       "      <td>NaN</td>\n",
       "      <td>NaN</td>\n",
       "    </tr>\n",
       "    <tr>\n",
       "      <th>36</th>\n",
       "      <td>NaN</td>\n",
       "      <td>NaN</td>\n",
       "    </tr>\n",
       "    <tr>\n",
       "      <th>37</th>\n",
       "      <td>40.747270</td>\n",
       "      <td>-73.980064</td>\n",
       "    </tr>\n",
       "    <tr>\n",
       "      <th>38</th>\n",
       "      <td>NaN</td>\n",
       "      <td>NaN</td>\n",
       "    </tr>\n",
       "    <tr>\n",
       "      <th>39</th>\n",
       "      <td>51.452512</td>\n",
       "      <td>-2.590974</td>\n",
       "    </tr>\n",
       "  </tbody>\n",
       "</table>\n",
       "</div>"
      ],
      "text/plain": [
       "      latitud   longitude\n",
       "0   37.416050 -122.151801\n",
       "1   40.757725  -73.986011\n",
       "2   37.421972 -122.084143\n",
       "3   42.362993  -71.086596\n",
       "4   40.745172  -74.007646\n",
       "5   40.731132  -73.991931\n",
       "6   40.751816  -73.971655\n",
       "7   40.731118  -73.991933\n",
       "8   40.733276  -73.993279\n",
       "9   39.044694  -94.597896\n",
       "10        NaN         NaN\n",
       "11  40.707645  -74.010816\n",
       "12  42.425170  -71.456770\n",
       "13  40.720824  -74.000070\n",
       "14  36.162612 -106.535290\n",
       "15  40.757929  -73.985506\n",
       "16  40.757725  -73.986011\n",
       "17        NaN         NaN\n",
       "18  40.741089  -74.001526\n",
       "19  37.771706 -122.402683\n",
       "20  40.751969  -73.990310\n",
       "21        NaN         NaN\n",
       "22        NaN         NaN\n",
       "23  40.756432  -73.987185\n",
       "24  40.751513  -73.977947\n",
       "25  40.756432  -73.987185\n",
       "26  40.751513  -73.977947\n",
       "27  47.622263 -122.363276\n",
       "28        NaN         NaN\n",
       "29  41.889853  -87.635543\n",
       "30        NaN         NaN\n",
       "31        NaN         NaN\n",
       "32  40.757716  -73.972321\n",
       "33        NaN         NaN\n",
       "34  37.445111 -122.160779\n",
       "35        NaN         NaN\n",
       "36        NaN         NaN\n",
       "37  40.747270  -73.980064\n",
       "38        NaN         NaN\n",
       "39  51.452512   -2.590974"
      ]
     },
     "execution_count": 176,
     "metadata": {},
     "output_type": "execute_result"
    }
   ],
   "source": [
    "df"
   ]
  },
  {
   "cell_type": "code",
   "execution_count": 177,
   "metadata": {},
   "outputs": [],
   "source": [
    "# concat the 2 df.\n",
    "def concat_axis1 (df1, df2):\n",
    "    starts = pd.concat([df1, df2], axis=1)\n",
    "    return starts"
   ]
  },
  {
   "cell_type": "code",
   "execution_count": 182,
   "metadata": {},
   "outputs": [],
   "source": [
    "startups = concat_axis1 (start_names, df)"
   ]
  },
  {
   "cell_type": "code",
   "execution_count": 189,
   "metadata": {},
   "outputs": [
    {
     "data": {
      "text/html": [
       "<div>\n",
       "<style scoped>\n",
       "    .dataframe tbody tr th:only-of-type {\n",
       "        vertical-align: middle;\n",
       "    }\n",
       "\n",
       "    .dataframe tbody tr th {\n",
       "        vertical-align: top;\n",
       "    }\n",
       "\n",
       "    .dataframe thead th {\n",
       "        text-align: right;\n",
       "    }\n",
       "</style>\n",
       "<table border=\"1\" class=\"dataframe\">\n",
       "  <thead>\n",
       "    <tr style=\"text-align: right;\">\n",
       "      <th></th>\n",
       "      <th>name</th>\n",
       "      <th>category_code</th>\n",
       "      <th>latitud</th>\n",
       "      <th>longitude</th>\n",
       "      <th>geometry</th>\n",
       "    </tr>\n",
       "  </thead>\n",
       "  <tbody>\n",
       "    <tr>\n",
       "      <th>38</th>\n",
       "      <td>Backstage</td>\n",
       "      <td>web</td>\n",
       "      <td>NaN</td>\n",
       "      <td>NaN</td>\n",
       "      <td>POINT EMPTY</td>\n",
       "    </tr>\n",
       "  </tbody>\n",
       "</table>\n",
       "</div>"
      ],
      "text/plain": [
       "         name category_code  latitud  longitude     geometry\n",
       "38  Backstage           web      NaN        NaN  POINT EMPTY"
      ]
     },
     "execution_count": 189,
     "metadata": {},
     "output_type": "execute_result"
    }
   ],
   "source": [
    "startups.sample()"
   ]
  },
  {
   "cell_type": "markdown",
   "metadata": {},
   "source": [
    "Get to de df new points columns for plot it in the map."
   ]
  },
  {
   "cell_type": "markdown",
   "metadata": {},
   "source": [
    "Export clean Data frame of startups, their category and their address inside San diego.\n",
    "export dictionary for maping."
   ]
  },
  {
   "cell_type": "code",
   "execution_count": 130,
   "metadata": {},
   "outputs": [
    {
     "ename": "TypeError",
     "evalue": "Object of type DataFrame is not JSON serializable",
     "output_type": "error",
     "traceback": [
      "\u001b[1;31m---------------------------------------------------------------------------\u001b[0m",
      "\u001b[1;31mTypeError\u001b[0m                                 Traceback (most recent call last)",
      "Input \u001b[1;32mIn [130]\u001b[0m, in \u001b[0;36m<cell line: 1>\u001b[1;34m()\u001b[0m\n\u001b[0;32m      1\u001b[0m \u001b[38;5;28;01mwith\u001b[39;00m \u001b[38;5;28mopen\u001b[39m (\u001b[38;5;124m\"\u001b[39m\u001b[38;5;124mstartups.json\u001b[39m\u001b[38;5;124m\"\u001b[39m, \u001b[38;5;124m\"\u001b[39m\u001b[38;5;124mw\u001b[39m\u001b[38;5;124m\"\u001b[39m) \u001b[38;5;28;01mas\u001b[39;00m f:\n\u001b[1;32m----> 2\u001b[0m     \u001b[43mjson\u001b[49m\u001b[38;5;241;43m.\u001b[39;49m\u001b[43mdump\u001b[49m\u001b[43m(\u001b[49m\u001b[43mstartups\u001b[49m\u001b[43m,\u001b[49m\u001b[43m \u001b[49m\u001b[43mf\u001b[49m\u001b[43m)\u001b[49m\n",
      "File \u001b[1;32m~\\miniconda2\\envs\\ironhack\\lib\\json\\__init__.py:179\u001b[0m, in \u001b[0;36mdump\u001b[1;34m(obj, fp, skipkeys, ensure_ascii, check_circular, allow_nan, cls, indent, separators, default, sort_keys, **kw)\u001b[0m\n\u001b[0;32m    173\u001b[0m     iterable \u001b[38;5;241m=\u001b[39m \u001b[38;5;28mcls\u001b[39m(skipkeys\u001b[38;5;241m=\u001b[39mskipkeys, ensure_ascii\u001b[38;5;241m=\u001b[39mensure_ascii,\n\u001b[0;32m    174\u001b[0m         check_circular\u001b[38;5;241m=\u001b[39mcheck_circular, allow_nan\u001b[38;5;241m=\u001b[39mallow_nan, indent\u001b[38;5;241m=\u001b[39mindent,\n\u001b[0;32m    175\u001b[0m         separators\u001b[38;5;241m=\u001b[39mseparators,\n\u001b[0;32m    176\u001b[0m         default\u001b[38;5;241m=\u001b[39mdefault, sort_keys\u001b[38;5;241m=\u001b[39msort_keys, \u001b[38;5;241m*\u001b[39m\u001b[38;5;241m*\u001b[39mkw)\u001b[38;5;241m.\u001b[39miterencode(obj)\n\u001b[0;32m    177\u001b[0m \u001b[38;5;66;03m# could accelerate with writelines in some versions of Python, at\u001b[39;00m\n\u001b[0;32m    178\u001b[0m \u001b[38;5;66;03m# a debuggability cost\u001b[39;00m\n\u001b[1;32m--> 179\u001b[0m \u001b[38;5;28;01mfor\u001b[39;00m chunk \u001b[38;5;129;01min\u001b[39;00m iterable:\n\u001b[0;32m    180\u001b[0m     fp\u001b[38;5;241m.\u001b[39mwrite(chunk)\n",
      "File \u001b[1;32m~\\miniconda2\\envs\\ironhack\\lib\\json\\encoder.py:438\u001b[0m, in \u001b[0;36m_make_iterencode.<locals>._iterencode\u001b[1;34m(o, _current_indent_level)\u001b[0m\n\u001b[0;32m    436\u001b[0m         \u001b[38;5;28;01mraise\u001b[39;00m \u001b[38;5;167;01mValueError\u001b[39;00m(\u001b[38;5;124m\"\u001b[39m\u001b[38;5;124mCircular reference detected\u001b[39m\u001b[38;5;124m\"\u001b[39m)\n\u001b[0;32m    437\u001b[0m     markers[markerid] \u001b[38;5;241m=\u001b[39m o\n\u001b[1;32m--> 438\u001b[0m o \u001b[38;5;241m=\u001b[39m \u001b[43m_default\u001b[49m\u001b[43m(\u001b[49m\u001b[43mo\u001b[49m\u001b[43m)\u001b[49m\n\u001b[0;32m    439\u001b[0m \u001b[38;5;28;01myield from\u001b[39;00m _iterencode(o, _current_indent_level)\n\u001b[0;32m    440\u001b[0m \u001b[38;5;28;01mif\u001b[39;00m markers \u001b[38;5;129;01mis\u001b[39;00m \u001b[38;5;129;01mnot\u001b[39;00m \u001b[38;5;28;01mNone\u001b[39;00m:\n",
      "File \u001b[1;32m~\\miniconda2\\envs\\ironhack\\lib\\json\\encoder.py:179\u001b[0m, in \u001b[0;36mJSONEncoder.default\u001b[1;34m(self, o)\u001b[0m\n\u001b[0;32m    160\u001b[0m \u001b[38;5;28;01mdef\u001b[39;00m \u001b[38;5;21mdefault\u001b[39m(\u001b[38;5;28mself\u001b[39m, o):\n\u001b[0;32m    161\u001b[0m     \u001b[38;5;124;03m\"\"\"Implement this method in a subclass such that it returns\u001b[39;00m\n\u001b[0;32m    162\u001b[0m \u001b[38;5;124;03m    a serializable object for ``o``, or calls the base implementation\u001b[39;00m\n\u001b[0;32m    163\u001b[0m \u001b[38;5;124;03m    (to raise a ``TypeError``).\u001b[39;00m\n\u001b[1;32m   (...)\u001b[0m\n\u001b[0;32m    177\u001b[0m \n\u001b[0;32m    178\u001b[0m \u001b[38;5;124;03m    \"\"\"\u001b[39;00m\n\u001b[1;32m--> 179\u001b[0m     \u001b[38;5;28;01mraise\u001b[39;00m \u001b[38;5;167;01mTypeError\u001b[39;00m(\u001b[38;5;124mf\u001b[39m\u001b[38;5;124m'\u001b[39m\u001b[38;5;124mObject of type \u001b[39m\u001b[38;5;132;01m{\u001b[39;00mo\u001b[38;5;241m.\u001b[39m\u001b[38;5;18m__class__\u001b[39m\u001b[38;5;241m.\u001b[39m\u001b[38;5;18m__name__\u001b[39m\u001b[38;5;132;01m}\u001b[39;00m\u001b[38;5;124m \u001b[39m\u001b[38;5;124m'\u001b[39m\n\u001b[0;32m    180\u001b[0m                     \u001b[38;5;124mf\u001b[39m\u001b[38;5;124m'\u001b[39m\u001b[38;5;124mis not JSON serializable\u001b[39m\u001b[38;5;124m'\u001b[39m)\n",
      "\u001b[1;31mTypeError\u001b[0m: Object of type DataFrame is not JSON serializable"
     ]
    }
   ],
   "source": [
    "with open (\"startups.json\", \"w\") as f:\n",
    "    json.dump(startups, f)"
   ]
  },
  {
   "cell_type": "code",
   "execution_count": 187,
   "metadata": {},
   "outputs": [],
   "source": [
    "def export_NY_startups (df):\n",
    "    return df.to_csv(f\"D:\\\\ironhack\\\\proyectos\\\\GeoSpatialData_proy3\\csv\\\\startups_newyork.csv\")"
   ]
  },
  {
   "cell_type": "code",
   "execution_count": 188,
   "metadata": {},
   "outputs": [],
   "source": [
    "export_NY_startups (gdf)"
   ]
  },
  {
   "cell_type": "code",
   "execution_count": null,
   "metadata": {},
   "outputs": [],
   "source": [
    "Map(Layer(stores_gdf, size_continuous_style('revenue', size_range=[10,40]), title='Annual Revenue ($)'))"
   ]
  }
 ],
 "metadata": {
  "kernelspec": {
   "display_name": "Python 3 (ipykernel)",
   "language": "python",
   "name": "python3"
  },
  "language_info": {
   "codemirror_mode": {
    "name": "ipython",
    "version": 3
   },
   "file_extension": ".py",
   "mimetype": "text/x-python",
   "name": "python",
   "nbconvert_exporter": "python",
   "pygments_lexer": "ipython3",
   "version": "3.10.4"
  }
 },
 "nbformat": 4,
 "nbformat_minor": 2
}
